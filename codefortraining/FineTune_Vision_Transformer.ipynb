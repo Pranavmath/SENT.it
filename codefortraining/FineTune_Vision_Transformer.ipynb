{
  "cells": [
    {
      "cell_type": "code",
      "execution_count": null,
      "metadata": {
        "colab": {
          "base_uri": "https://localhost:8080/"
        },
        "id": "2GRFGb2eeBvr",
        "outputId": "a2528e86-6dc0-4d8a-990e-21b8a2a3c305"
      },
      "outputs": [
        {
          "name": "stdout",
          "output_type": "stream",
          "text": [
            "Mounted at /content/drive\n"
          ]
        }
      ],
      "source": [
        "from google.colab import drive, files\n",
        "drive.mount('/content/drive', force_remount=True)"
      ]
    },
    {
      "cell_type": "code",
      "execution_count": null,
      "metadata": {
        "colab": {
          "base_uri": "https://localhost:8080/"
        },
        "id": "1npfSuYn44SH",
        "outputId": "c368dd65-5498-4575-ba28-fcb78a0c04e1"
      },
      "outputs": [
        {
          "name": "stdout",
          "output_type": "stream",
          "text": [
            "rm: cannot remove '/content/content': No such file or directory\n"
          ]
        }
      ],
      "source": [
        "!rm -r \"/content/content\""
      ]
    },
    {
      "cell_type": "code",
      "execution_count": null,
      "metadata": {
        "colab": {
          "base_uri": "https://localhost:8080/"
        },
        "id": "o6-R0JQ7eWpZ",
        "outputId": "f359b7fd-c5ba-4b99-ea83-bddd3b6c76ca"
      },
      "outputs": [
        {
          "name": "stdout",
          "output_type": "stream",
          "text": [
            "Archive:  /content/drive/My Drive/dataset.zip\n",
            "   creating: /content/content/dataset.hf/\n",
            "   creating: /content/content/dataset.hf/validation/\n",
            "  inflating: /content/content/dataset.hf/validation/data-00000-of-00001.arrow  \n",
            "  inflating: /content/content/dataset.hf/validation/state.json  \n",
            "  inflating: /content/content/dataset.hf/validation/dataset_info.json  \n",
            "   creating: /content/content/dataset.hf/test/\n",
            "  inflating: /content/content/dataset.hf/test/data-00000-of-00001.arrow  \n",
            "  inflating: /content/content/dataset.hf/test/state.json  \n",
            "  inflating: /content/content/dataset.hf/test/dataset_info.json  \n",
            "   creating: /content/content/dataset.hf/train/\n",
            "  inflating: /content/content/dataset.hf/train/data-00000-of-00007.arrow  \n",
            "  inflating: /content/content/dataset.hf/train/data-00006-of-00007.arrow  \n",
            "  inflating: /content/content/dataset.hf/train/data-00001-of-00007.arrow  \n",
            "  inflating: /content/content/dataset.hf/train/data-00003-of-00007.arrow  \n",
            "  inflating: /content/content/dataset.hf/train/data-00002-of-00007.arrow  \n",
            "  inflating: /content/content/dataset.hf/train/state.json  \n",
            "  inflating: /content/content/dataset.hf/train/data-00005-of-00007.arrow  \n",
            "  inflating: /content/content/dataset.hf/train/data-00004-of-00007.arrow  \n",
            "  inflating: /content/content/dataset.hf/train/dataset_info.json  \n",
            "  inflating: /content/content/dataset.hf/dataset_dict.json  \n"
          ]
        }
      ],
      "source": [
        "!unzip \"/content/drive/My Drive/dataset.zip\" -d \"/content/\""
      ]
    },
    {
      "cell_type": "code",
      "execution_count": null,
      "metadata": {
        "colab": {
          "base_uri": "https://localhost:8080/"
        },
        "id": "YNrr0mj6fXIs",
        "outputId": "8be8ec47-05fe-4cb3-fcb7-1de4c0c81c1f"
      },
      "outputs": [],
      "source": [
        "!pip install datasets"
      ]
    },
    {
      "cell_type": "code",
      "execution_count": null,
      "metadata": {
        "id": "6fnZgUaDiMCD"
      },
      "outputs": [],
      "source": [
        "\"\"\"\n",
        "import os\n",
        "import random\n",
        "import shutil\n",
        "\n",
        "os.mkdir(\"/content/NELBHU64000/test\")\n",
        "os.mkdir(\"/content/NELBHU64000/train\")\n",
        "os.mkdir(\"/content/NELBHU64000/validation\")\n",
        "\n",
        "for disease in os.listdir(\"/content/NELBHU64000\"):\n",
        "  if disease != \".DS_Store\" and disease != \"train\" and disease != \"test\" and disease != \"validation\":\n",
        "    os.mkdir(\"/content/NELBHU64000/train/\" + disease)\n",
        "    os.mkdir(\"/content/NELBHU64000/test/\" + disease)\n",
        "    os.mkdir(\"/content/NELBHU64000/validation/\" + disease)\n",
        "\n",
        "    disease_path = \"/content/NELBHU64000/\" + disease\n",
        "    for file_name in os.listdir(disease_path):\n",
        "      file_path = disease_path + \"/\" + file_name\n",
        "\n",
        "      float_num = random.uniform(0, 1)\n",
        "\n",
        "      if float_num < 0.10:\n",
        "        shutil.move(file_path, \"/content/NELBHU64000/test/\" + disease + \"/\" + file_name)\n",
        "      elif float_num < 0.20:\n",
        "        shutil.move(file_path, \"/content/NELBHU64000/validation/\" + disease + \"/\" + file_name)\n",
        "      else:\n",
        "        shutil.move(file_path, \"/content/NELBHU64000/train/\" + disease + \"/\" + file_name)\n",
        "\n",
        "    os.rmdir(disease_path)\n",
        "\"\"\""
      ]
    },
    {
      "cell_type": "code",
      "execution_count": null,
      "metadata": {
        "id": "1gnl_CfGehF0"
      },
      "outputs": [],
      "source": [
        "\"\"\"\n",
        "from datasets import load_dataset, Dataset\n",
        "\n",
        "ds = load_dataset(\"imagefolder\", data_dir=\"/content/dataset.hf\", drop_labels=False)\n",
        "\"\"\""
      ]
    },
    {
      "cell_type": "code",
      "execution_count": null,
      "metadata": {
        "id": "B90CC6_wewDD"
      },
      "outputs": [],
      "source": [
        "\"\"\"\n",
        "def transforms(examples):\n",
        "    examples[\"pixel_values\"] = [image.convert(\"RGB\").resize((224,224)) for image in examples[\"image\"]]\n",
        "    return examples\n",
        "\"\"\""
      ]
    },
    {
      "cell_type": "code",
      "execution_count": null,
      "metadata": {
        "id": "FPXkNUcMewh7"
      },
      "outputs": [],
      "source": [
        "\"\"\"\n",
        "# batch_size and writer_batch_size set to 500 to reduce RAM\n",
        "ds = ds.map(transforms, remove_columns=[\"image\"], batched=True, batch_size=350, writer_batch_size=350, num_proc=4)\n",
        "\"\"\""
      ]
    },
    {
      "cell_type": "code",
      "execution_count": null,
      "metadata": {
        "id": "ArgJF_rI0CZf"
      },
      "outputs": [],
      "source": [
        "#ds.save_to_disk(\"dataset.hf\")"
      ]
    },
    {
      "cell_type": "code",
      "execution_count": null,
      "metadata": {
        "id": "olrTrU4U0P68"
      },
      "outputs": [],
      "source": [
        "#!zip \"dataset.zip\" -r \"/content/dataset.hf\""
      ]
    },
    {
      "cell_type": "code",
      "execution_count": null,
      "metadata": {
        "id": "JRgpWxFowVhL"
      },
      "outputs": [],
      "source": [
        "from datasets import load_from_disk\n",
        "\n",
        "ds = load_from_disk(\"/content/dataset.hf\")"
      ]
    },
    {
      "cell_type": "code",
      "execution_count": null,
      "metadata": {
        "colab": {
          "base_uri": "https://localhost:8080/"
        },
        "id": "4O14ms-urlHp",
        "outputId": "74b7c24a-39f8-466e-b4ee-1d884aa22618"
      },
      "outputs": [
        {
          "data": {
            "text/plain": [
              "{'label': 0,\n",
              " 'pixel_values': <PIL.PngImagePlugin.PngImageFile image mode=RGB size=224x224 at 0x7FE776999280>}"
            ]
          },
          "execution_count": 6,
          "metadata": {},
          "output_type": "execute_result"
        }
      ],
      "source": [
        "ex = ds['train'][400]\n",
        "ex"
      ]
    },
    {
      "cell_type": "code",
      "execution_count": null,
      "metadata": {
        "id": "8UtbQyN0roKr"
      },
      "outputs": [],
      "source": [
        "image = ex['pixel_values']"
      ]
    },
    {
      "cell_type": "code",
      "execution_count": null,
      "metadata": {
        "colab": {
          "base_uri": "https://localhost:8080/"
        },
        "id": "_NDnSFc-rgQY",
        "outputId": "0d64e38a-c64f-42b0-ddc8-a5e2d61d8917"
      },
      "outputs": [
        {
          "data": {
            "text/plain": [
              "ClassLabel(names=['Acne and Rosacea Photos', 'Actinic cheilitis', 'Normal Skin', 'acanthosis nigricans', 'actinic keratosis', 'alopecia', 'angiokeratoma', 'atopic dermatitis', 'atypical melanocytic proliferation', 'basal cell carcinoma', 'biting insects', 'bowens disease', 'bullous disease', 'candida', 'candidiasis', 'chondrodermatitis nodularis', 'ctcl', 'cutaneceous larva migrans', 'dermatofibroma', 'distal subungual onychomycosis', 'drug eruptions', 'eczema', 'epidermal cyst', 'fixed drug eruption', 'folliculitis', 'granuloma annulare', 'hemangioma', 'herpes', 'impetigo', 'intertrigo', 'keloids', 'keratoacanthoma', 'lentigo', 'lichen planus', 'lichenoid keratosis', 'lupus', 'melanocytic nevi', 'melanoma', 'molluscum contagiosum', 'necrobiosis lipoidica', 'neurofibromatosis', 'nevus', 'other connective tissue diseases', 'other lichen related diseases', 'other light diseases', 'other nail related diseases', 'other psoraisis related diseases', 'perleche', 'pigmented benign keratosis', 'pityriasis and related diseases', 'poison ivy related diseases', 'porokeratosis', 'psoriasis', 'pubic lice', 'pyogenic granuloma', 'scabies', 'scar', 'sebaceous hyperplasia', 'seborrheic dermatitis', 'seborrheic keratosis', 'skin tag polyps', 'solar lentigo', 'squamous cell carcinoma', 'stucco keretoses', 'sunburn', 'syringoma', 'telangiectasias', 'tick bite', 'tinea', 'tuberous sclerosis', 'urticaria', 'varicella', 'vascular lesion', 'vasculitis', 'venous diseases', 'viral exanthems', 'warts', 'xanthomas'], id=None)"
            ]
          },
          "execution_count": 8,
          "metadata": {},
          "output_type": "execute_result"
        }
      ],
      "source": [
        "labels = ds['train'].features['label']\n",
        "labels"
      ]
    },
    {
      "cell_type": "code",
      "execution_count": null,
      "metadata": {
        "colab": {
          "base_uri": "https://localhost:8080/",
          "height": 35
        },
        "id": "3cV0xafGgjw1",
        "outputId": "2064af77-1ea4-46c5-a825-29948b060ad1"
      },
      "outputs": [
        {
          "data": {
            "application/vnd.google.colaboratory.intrinsic+json": {
              "type": "string"
            },
            "text/plain": [
              "'Acne and Rosacea Photos'"
            ]
          },
          "execution_count": 9,
          "metadata": {},
          "output_type": "execute_result"
        }
      ],
      "source": [
        "labels.int2str(ex['label'])"
      ]
    },
    {
      "cell_type": "code",
      "execution_count": null,
      "metadata": {
        "id": "GXPTeHYstVSJ"
      },
      "outputs": [],
      "source": [
        "!pip install transformers"
      ]
    },
    {
      "cell_type": "code",
      "execution_count": null,
      "metadata": {
        "colab": {
          "base_uri": "https://localhost:8080/",
          "height": 104,
          "referenced_widgets": [
            "a2593d9b417c4638abb3216e18e92988",
            "5ac273469a234c74910fd8b768927df0",
            "b752b37b2266438fb52ce90585e54ed1",
            "07af2eea27da423ba7c6d7b2a99fca83",
            "440c348edc174475aa1b91d9cf37706f",
            "2597d52f907c48aab546d19a2bc6522f",
            "e6fc3bec43e74cb591e237aa97c62374",
            "961a71c46dfb4b88baa3d01da9fbdc2a",
            "c7a04ed3417e436fa754e8c4d733219d",
            "57e7b7bf12434fca9b9c1d583a439430",
            "c576fc4d0f044560864d39809e8df3dd"
          ]
        },
        "id": "rtx6wM_7tPkS",
        "outputId": "3e61d441-e2a8-42fd-eb75-5861db576c3b"
      },
      "outputs": [],
      "source": [
        "from transformers import ViTFeatureExtractor\n",
        "\n",
        "model_name_or_path = 'facebook/deit-base-patch16-224'\n",
        "feature_extractor = ViTFeatureExtractor.from_pretrained(model_name_or_path)"
      ]
    },
    {
      "cell_type": "code",
      "execution_count": null,
      "metadata": {
        "colab": {
          "base_uri": "https://localhost:8080/"
        },
        "id": "Da7ACCpMtTz0",
        "outputId": "d51684d1-964b-4b68-9471-a208cd0e8eec"
      },
      "outputs": [
        {
          "data": {
            "text/plain": [
              "{'pixel_values': tensor([[[[-0.0118,  0.0510,  0.0824,  ..., -0.8902, -0.8980, -0.8902],\n",
              "          [ 0.0118,  0.0118,  0.0667,  ..., -0.8902, -0.8824, -0.8902],\n",
              "          [ 0.0745,  0.0902,  0.0902,  ..., -0.8824, -0.8902, -0.8824],\n",
              "          ...,\n",
              "          [-0.1216, -0.1451, -0.0824,  ..., -0.2941, -0.3412, -0.4118],\n",
              "          [-0.0902, -0.1451, -0.0510,  ..., -0.3333, -0.3882, -0.4667],\n",
              "          [-0.1294, -0.1294, -0.0510,  ..., -0.3961, -0.4353, -0.5373]],\n",
              "\n",
              "         [[-0.3098, -0.2549, -0.2314,  ..., -0.9059, -0.9137, -0.9059],\n",
              "          [-0.2941, -0.3020, -0.2471,  ..., -0.9059, -0.8980, -0.9059],\n",
              "          [-0.2549, -0.2392, -0.2392,  ..., -0.8980, -0.9059, -0.8980],\n",
              "          ...,\n",
              "          [-0.2706, -0.3098, -0.2471,  ..., -0.4510, -0.4824, -0.5373],\n",
              "          [-0.2627, -0.3176, -0.2235,  ..., -0.4667, -0.4980, -0.5686],\n",
              "          [-0.3020, -0.3020, -0.2235,  ..., -0.4980, -0.5216, -0.6235]],\n",
              "\n",
              "         [[-0.3961, -0.3412, -0.3098,  ..., -0.8980, -0.9059, -0.8980],\n",
              "          [-0.3804, -0.3961, -0.3412,  ..., -0.8980, -0.8902, -0.8980],\n",
              "          [-0.3412, -0.3333, -0.3333,  ..., -0.8902, -0.8980, -0.8902],\n",
              "          ...,\n",
              "          [-0.3804, -0.4118, -0.3569,  ..., -0.5216, -0.5451, -0.6000],\n",
              "          [-0.3647, -0.4196, -0.3255,  ..., -0.5451, -0.5529, -0.5922],\n",
              "          [-0.3882, -0.4039, -0.3255,  ..., -0.5843, -0.5529, -0.6078]]]])}"
            ]
          },
          "execution_count": 12,
          "metadata": {},
          "output_type": "execute_result"
        }
      ],
      "source": [
        "feature_extractor(image, return_tensors='pt')"
      ]
    },
    {
      "cell_type": "code",
      "execution_count": null,
      "metadata": {
        "id": "IvNsqNwStZLe"
      },
      "outputs": [],
      "source": [
        "def process_example(example):\n",
        "    inputs = feature_extractor(example['pixel_values'], return_tensors='pt')\n",
        "    inputs['label'] = example['label']\n",
        "    return inputs"
      ]
    },
    {
      "cell_type": "code",
      "execution_count": null,
      "metadata": {
        "colab": {
          "base_uri": "https://localhost:8080/"
        },
        "id": "fyZh-CjPtcnm",
        "outputId": "04498bbe-ada4-497e-9d72-ea494a097f68"
      },
      "outputs": [
        {
          "data": {
            "text/plain": [
              "{'pixel_values': tensor([[[[ 0.2235,  0.2706,  0.2941,  ...,  0.2471,  0.2549,  0.2627],\n",
              "          [ 0.2314,  0.2706,  0.2863,  ...,  0.1686,  0.2627,  0.2471],\n",
              "          [ 0.2314,  0.2627,  0.2627,  ...,  0.2471,  0.2471,  0.2471],\n",
              "          ...,\n",
              "          [ 0.2078,  0.2000,  0.2471,  ..., -0.9137, -0.9137, -0.9216],\n",
              "          [ 0.1843,  0.2078,  0.2549,  ..., -0.9137, -0.9216, -0.9294],\n",
              "          [ 0.2471,  0.2549,  0.2784,  ..., -0.9137, -0.9294, -0.9294]],\n",
              "\n",
              "         [[-0.0431, -0.0039,  0.0196,  ..., -0.0588, -0.0510, -0.0431],\n",
              "          [-0.0353, -0.0039,  0.0118,  ..., -0.1373, -0.0431, -0.0510],\n",
              "          [-0.0353, -0.0118, -0.0118,  ..., -0.0588, -0.0510, -0.0510],\n",
              "          ...,\n",
              "          [-0.0902, -0.0745, -0.0118,  ..., -0.9529, -0.9451, -0.9373],\n",
              "          [-0.1137, -0.0667, -0.0118,  ..., -0.9451, -0.9373, -0.9373],\n",
              "          [-0.0510, -0.0275,  0.0118,  ..., -0.9373, -0.9373, -0.9373]],\n",
              "\n",
              "         [[-0.1059, -0.0510, -0.0118,  ..., -0.1137, -0.1059, -0.0980],\n",
              "          [-0.0980, -0.0431, -0.0196,  ..., -0.1922, -0.0902, -0.0980],\n",
              "          [-0.0980, -0.0588, -0.0431,  ..., -0.1059, -0.0902, -0.0745],\n",
              "          ...,\n",
              "          [-0.1608, -0.1294, -0.0431,  ..., -0.9686, -0.9686, -0.9686],\n",
              "          [-0.1765, -0.1137, -0.0353,  ..., -0.9686, -0.9686, -0.9686],\n",
              "          [-0.1059, -0.0667, -0.0039,  ..., -0.9608, -0.9686, -0.9686]]]]), 'label': 0}"
            ]
          },
          "execution_count": 14,
          "metadata": {},
          "output_type": "execute_result"
        }
      ],
      "source": [
        "process_example(ds['train'][0])"
      ]
    },
    {
      "cell_type": "code",
      "execution_count": null,
      "metadata": {
        "id": "uFUd7IaztwTR"
      },
      "outputs": [],
      "source": [
        "def transform(example_batch):\n",
        "    # Take a list of PIL images and turn them to pixel values\n",
        "    inputs = feature_extractor([x for x in example_batch['pixel_values']], return_tensors='pt')\n",
        "\n",
        "    # Don't forget to include the labels!\n",
        "    inputs['label'] = example_batch['label']\n",
        "    return inputs"
      ]
    },
    {
      "cell_type": "code",
      "execution_count": null,
      "metadata": {
        "id": "KbC11N5ut3bK"
      },
      "outputs": [],
      "source": [
        "prepared_ds = ds.with_transform(transform)"
      ]
    },
    {
      "cell_type": "code",
      "execution_count": null,
      "metadata": {
        "colab": {
          "base_uri": "https://localhost:8080/"
        },
        "id": "r-RhFH4Rt45t",
        "outputId": "f93aa1b8-e097-4a02-841a-aaabcd6e9b3b"
      },
      "outputs": [],
      "source": [
        "prepared_ds['train'][0:2]"
      ]
    },
    {
      "cell_type": "code",
      "execution_count": null,
      "metadata": {
        "id": "BjFFKccNt6oa"
      },
      "outputs": [],
      "source": [
        "import torch\n",
        "\n",
        "def collate_fn(batch):\n",
        "    return {\n",
        "        'pixel_values': torch.stack([x['pixel_values'] for x in batch]),\n",
        "        'labels': torch.tensor([x['label'] for x in batch])\n",
        "    }"
      ]
    },
    {
      "cell_type": "code",
      "execution_count": null,
      "metadata": {
        "colab": {
          "base_uri": "https://localhost:8080/",
          "height": 104,
          "referenced_widgets": [
            "8f4f1cd7290341f9a490ff8f187013da",
            "dde024453bf14d88a7ae53a78179d179",
            "1a183eadfd204a24a95d7248c3a9c135",
            "194c469c48864487a0589a1befcf7b67",
            "f8b2e003bdc44b64b62c02335f636e0e",
            "fe70ad19177f4a8ab3f2b7b05e13a0e8",
            "b40b8cf4d8724155bec33dcc90c24ab6",
            "5737394bdf2443488c7c72de32d3e2b8",
            "d93fa3ba45f842b4abd8a1a75ec4db27",
            "2f815985fe564d2a93af7d923747f342",
            "9ed7474f0c184420a56051ebd37b5f78"
          ]
        },
        "id": "f18H9Lhrt9fL",
        "outputId": "2fbaeca3-cf9b-4501-bfe2-e4f96e004dc8"
      },
      "outputs": [],
      "source": [
        "import numpy as np\n",
        "from datasets import load_metric\n",
        "\n",
        "metric = load_metric(\"accuracy\")\n",
        "def compute_metrics(p):\n",
        "    return metric.compute(predictions=np.argmax(p.predictions, axis=1), references=p.label_ids)"
      ]
    },
    {
      "cell_type": "code",
      "execution_count": null,
      "metadata": {
        "colab": {
          "base_uri": "https://localhost:8080/",
          "height": 170,
          "referenced_widgets": [
            "be31063d456542ac99869a4a11085022",
            "cf0549ad1a4c49be8250109c82f2eba2",
            "c2fb7c25af814cf9833189be60516ac3",
            "86eac05b009442c39dd7aa179c45034a",
            "b6ab02f177a84d4abfe1d40f2fd52ee1",
            "96e1db6c504741c4bdbfee986313346d",
            "06d93f23f2cc4768a39d45ca230a6d39",
            "dc00275c5f4f49148c9a8c45dbf2e4d3",
            "56009b21230f4bb886152b60f1951742",
            "b37153c23c914aacb33762c6d91d5bc0",
            "cbc1ef77a3bb416a9f4880cab2dea7d5",
            "01ac348d908e43448642f738beafffac",
            "a580d17da2aa4f69808dd99a62bdf78a",
            "184caa6c86734ca68b7ae8f72e5cc739",
            "40d048481d6e44f89b2a841fa2532f2f",
            "41ef16798c354d009f60e544feb6d23d",
            "b72ec625262c4e07b0c3afa54a4fab9f",
            "e975224ec1894c2099dd97333275a5e1",
            "76e72e3d63b640c091505d13c72b6ee2",
            "46efa8c59ba64c678476e5ede03d8293",
            "aeee93e6611f4ae8acabb41eeddb397e",
            "cb65f831b5d84a32b8eca2c8546fb123"
          ]
        },
        "id": "CvOiqUl1t_2G",
        "outputId": "2234785f-91f0-486c-cd2a-d4daf6977fee"
      },
      "outputs": [],
      "source": [
        "from transformers import ViTForImageClassification\n",
        "\n",
        "labels = ds['train'].features['label'].names\n",
        "\n",
        "model = ViTForImageClassification.from_pretrained(\n",
        "    model_name_or_path,\n",
        "    num_labels=len(labels),\n",
        "    id2label={str(i): c for i, c in enumerate(labels)},\n",
        "    label2id={c: str(i) for i, c in enumerate(labels)},\n",
        "    ignore_mismatched_sizes=True\n",
        ")"
      ]
    },
    {
      "cell_type": "code",
      "execution_count": null,
      "metadata": {
        "id": "gurrL15muC1T"
      },
      "outputs": [],
      "source": [
        "from transformers import TrainingArguments\n",
        "\n",
        "training_args = TrainingArguments(\n",
        "  output_dir=\"./deit-base-SKINMODEL\",\n",
        "  per_device_train_batch_size=16,\n",
        "  evaluation_strategy=\"steps\",\n",
        "  num_train_epochs=4,\n",
        "  fp16=True,\n",
        "  save_steps=100,\n",
        "  eval_steps=100,\n",
        "  logging_steps=10,\n",
        "  learning_rate=2e-4,\n",
        "  save_total_limit=2,\n",
        "  remove_unused_columns=False,\n",
        "  push_to_hub=False,\n",
        "  report_to='tensorboard',\n",
        "  load_best_model_at_end=True,\n",
        ")"
      ]
    },
    {
      "cell_type": "code",
      "execution_count": null,
      "metadata": {
        "id": "dCaWB4hLuLMT"
      },
      "outputs": [],
      "source": [
        "from transformers import Trainer\n",
        "\n",
        "trainer = Trainer(\n",
        "    model=model,\n",
        "    args=training_args,\n",
        "    data_collator=collate_fn,\n",
        "    compute_metrics=compute_metrics,\n",
        "    train_dataset=prepared_ds[\"train\"],\n",
        "    eval_dataset=prepared_ds[\"validation\"],\n",
        "    tokenizer=feature_extractor,\n",
        ")"
      ]
    },
    {
      "cell_type": "code",
      "execution_count": null,
      "metadata": {
        "colab": {
          "base_uri": "https://localhost:8080/",
          "height": 1000
        },
        "id": "EJv8USSXui5s",
        "outputId": "21ba31dc-41c2-460e-9760-0b3c329cee8b"
      },
      "outputs": [],
      "source": [
        "train_results = trainer.train()\n",
        "trainer.save_model()\n",
        "trainer.log_metrics(\"train\", train_results.metrics)\n",
        "trainer.save_metrics(\"train\", train_results.metrics)\n",
        "trainer.save_state()"
      ]
    },
    {
      "cell_type": "code",
      "execution_count": null,
      "metadata": {
        "colab": {
          "base_uri": "https://localhost:8080/",
          "height": 159
        },
        "id": "QUx_Z1FeQ1Uc",
        "outputId": "633930ac-32e3-4ad2-8677-5a695ce6bedb"
      },
      "outputs": [
        {
          "data": {
            "text/html": [
              "\n",
              "    <div>\n",
              "      \n",
              "      <progress value='757' max='757' style='width:300px; height:20px; vertical-align: middle;'></progress>\n",
              "      [757/757 00:38]\n",
              "    </div>\n",
              "    "
            ],
            "text/plain": [
              "<IPython.core.display.HTML object>"
            ]
          },
          "metadata": {},
          "output_type": "display_data"
        },
        {
          "name": "stdout",
          "output_type": "stream",
          "text": [
            "***** test metrics *****\n",
            "  epoch                   =        4.0\n",
            "  eval_accuracy           =     0.7799\n",
            "  eval_loss               =     0.7604\n",
            "  eval_runtime            = 0:00:38.90\n",
            "  eval_samples_per_second =    155.527\n",
            "  eval_steps_per_second   =     19.457\n"
          ]
        }
      ],
      "source": [
        "metrics = trainer.evaluate(prepared_ds['test'])\n",
        "trainer.log_metrics(\"test\", metrics)\n",
        "trainer.save_metrics(\"test\", metrics)"
      ]
    },
    {
      "cell_type": "code",
      "execution_count": null,
      "metadata": {
        "id": "FTjKCQBCPfIf"
      },
      "outputs": [],
      "source": [
        "!zip \"skinmodel.zip\" -r \"/content/vit-base-SKINMODEL\""
      ]
    },
    {
      "cell_type": "code",
      "execution_count": null,
      "metadata": {
        "id": "dIGvW3RqQk_I"
      },
      "outputs": [],
      "source": [
        "!mv \"/content/skinmodel.zip\" \"/content/drive/MyDrive/skinmodel.zip\""
      ]
    }
  ],
  "metadata": {
    "accelerator": "GPU",
    "colab": {
      "machine_shape": "hm",
      "provenance": []
    },
    "gpuClass": "standard",
    "kernelspec": {
      "display_name": "Python 3",
      "name": "python3"
    },
    "language_info": {
      "name": "python"
    }
  },
  "nbformat": 4,
  "nbformat_minor": 0
}

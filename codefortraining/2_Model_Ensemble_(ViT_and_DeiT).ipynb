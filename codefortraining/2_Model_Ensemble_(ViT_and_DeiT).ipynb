{
  "cells": [
    {
      "cell_type": "code",
      "execution_count": null,
      "metadata": {
        "colab": {
          "base_uri": "https://localhost:8080/"
        },
        "id": "R8gojEY6ZP-o",
        "outputId": "54a57b38-812c-4a70-bf94-1936ca8cac03"
      },
      "outputs": [
        {
          "name": "stdout",
          "output_type": "stream",
          "text": [
            "Mounted at /content/drive\n"
          ]
        }
      ],
      "source": [
        "from google.colab import drive\n",
        "drive.mount(\"/content/drive\")"
      ]
    },
    {
      "cell_type": "code",
      "execution_count": null,
      "metadata": {
        "colab": {
          "base_uri": "https://localhost:8080/"
        },
        "id": "W-c-OmHMagb1",
        "outputId": "8582eb3d-59d6-4820-94ae-eb165faeb72f"
      },
      "outputs": [],
      "source": [
        "!unzip \"/content/drive/MyDrive/ViTskinmodel.zip\""
      ]
    },
    {
      "cell_type": "code",
      "execution_count": null,
      "metadata": {
        "colab": {
          "base_uri": "https://localhost:8080/"
        },
        "id": "o_B4IiXaa262",
        "outputId": "820bad40-f4a1-40e1-a83d-1b613ec5e16f"
      },
      "outputs": [],
      "source": [
        "!unzip \"/content/drive/MyDrive/deitskinmodel.zip\""
      ]
    },
    {
      "cell_type": "code",
      "execution_count": null,
      "metadata": {
        "colab": {
          "base_uri": "https://localhost:8080/"
        },
        "id": "Z3l48dnAa5Ak",
        "outputId": "c5efb473-1435-48d2-d3c5-bf5d880e62be"
      },
      "outputs": [
        {
          "name": "stdout",
          "output_type": "stream",
          "text": [
            "Archive:  /content/drive/MyDrive/dataset.zip\n",
            "   creating: content/dataset.hf/\n",
            "   creating: content/dataset.hf/validation/\n",
            "  inflating: content/dataset.hf/validation/data-00000-of-00001.arrow  \n",
            "  inflating: content/dataset.hf/validation/state.json  \n",
            "  inflating: content/dataset.hf/validation/dataset_info.json  \n",
            "   creating: content/dataset.hf/test/\n",
            "  inflating: content/dataset.hf/test/data-00000-of-00001.arrow  \n",
            "  inflating: content/dataset.hf/test/state.json  \n",
            "  inflating: content/dataset.hf/test/dataset_info.json  \n",
            "   creating: content/dataset.hf/train/\n",
            "  inflating: content/dataset.hf/train/data-00000-of-00007.arrow  \n",
            "  inflating: content/dataset.hf/train/data-00006-of-00007.arrow  \n",
            "  inflating: content/dataset.hf/train/data-00001-of-00007.arrow  \n",
            "  inflating: content/dataset.hf/train/data-00003-of-00007.arrow  \n",
            "  inflating: content/dataset.hf/train/data-00002-of-00007.arrow  \n",
            "  inflating: content/dataset.hf/train/state.json  \n",
            "  inflating: content/dataset.hf/train/data-00005-of-00007.arrow  \n",
            "  inflating: content/dataset.hf/train/data-00004-of-00007.arrow  \n",
            "  inflating: content/dataset.hf/train/dataset_info.json  \n",
            "  inflating: content/dataset.hf/dataset_dict.json  \n"
          ]
        }
      ],
      "source": [
        "!unzip \"/content/drive/MyDrive/dataset.zip\""
      ]
    },
    {
      "cell_type": "code",
      "execution_count": null,
      "metadata": {
        "colab": {
          "base_uri": "https://localhost:8080/"
        },
        "id": "5oDm-URbcs1e",
        "outputId": "9a4fc075-b653-4c6a-9813-ceebc084339a"
      },
      "outputs": [],
      "source": [
        "!pip install datasets\n",
        "!pip install transformers"
      ]
    },
    {
      "cell_type": "code",
      "execution_count": null,
      "metadata": {
        "id": "EO8ojKz_ioLU"
      },
      "outputs": [],
      "source": [
        "import numpy as np\n",
        "import math\n",
        "from tqdm import tqdm"
      ]
    },
    {
      "cell_type": "code",
      "execution_count": null,
      "metadata": {
        "id": "RYcqMFfJbbKs"
      },
      "outputs": [],
      "source": [
        "from datasets import load_from_disk\n",
        "\n",
        "ds = load_from_disk(\"/content/content/dataset.hf\")\n",
        "test_ds = ds[\"test\"]"
      ]
    },
    {
      "cell_type": "code",
      "execution_count": null,
      "metadata": {
        "id": "dzN_KBagfL47"
      },
      "outputs": [],
      "source": [
        "labels = ds['train'].features['label'].names"
      ]
    },
    {
      "cell_type": "code",
      "execution_count": null,
      "metadata": {
        "colab": {
          "base_uri": "https://localhost:8080/"
        },
        "id": "VFyGnnVmk9HT",
        "outputId": "1f03475a-cc66-43bf-c780-5a7eb5f2a620"
      },
      "outputs": [
        {
          "name": "stdout",
          "output_type": "stream",
          "text": [
            "['Acne and Rosacea Photos', 'Actinic cheilitis', 'Normal Skin', 'acanthosis nigricans', 'actinic keratosis', 'alopecia', 'angiokeratoma', 'atopic dermatitis', 'atypical melanocytic proliferation', 'basal cell carcinoma', 'biting insects', 'bowens disease', 'bullous disease', 'candida', 'candidiasis', 'chondrodermatitis nodularis', 'ctcl', 'cutaneceous larva migrans', 'dermatofibroma', 'distal subungual onychomycosis', 'drug eruptions', 'eczema', 'epidermal cyst', 'fixed drug eruption', 'folliculitis', 'granuloma annulare', 'hemangioma', 'herpes', 'impetigo', 'intertrigo', 'keloids', 'keratoacanthoma', 'lentigo', 'lichen planus', 'lichenoid keratosis', 'lupus', 'melanocytic nevi', 'melanoma', 'molluscum contagiosum', 'necrobiosis lipoidica', 'neurofibromatosis', 'nevus', 'other connective tissue diseases', 'other lichen related diseases', 'other light diseases', 'other nail related diseases', 'other psoraisis related diseases', 'perleche', 'pigmented benign keratosis', 'pityriasis and related diseases', 'poison ivy related diseases', 'porokeratosis', 'psoriasis', 'pubic lice', 'pyogenic granuloma', 'scabies', 'scar', 'sebaceous hyperplasia', 'seborrheic dermatitis', 'seborrheic keratosis', 'skin tag polyps', 'solar lentigo', 'squamous cell carcinoma', 'stucco keretoses', 'sunburn', 'syringoma', 'telangiectasias', 'tick bite', 'tinea', 'tuberous sclerosis', 'urticaria', 'varicella', 'vascular lesion', 'vasculitis', 'venous diseases', 'viral exanthems', 'warts', 'xanthomas']\n"
          ]
        }
      ],
      "source": [
        "print(labels)"
      ]
    },
    {
      "cell_type": "code",
      "execution_count": null,
      "metadata": {
        "colab": {
          "base_uri": "https://localhost:8080/"
        },
        "id": "4PHhufzxe2qM",
        "outputId": "6cbf9138-ffbd-485b-f985-89c0238b2a66"
      },
      "outputs": [
        {
          "name": "stderr",
          "output_type": "stream",
          "text": [
            "/usr/local/lib/python3.9/dist-packages/transformers/models/vit/feature_extraction_vit.py:28: FutureWarning: The class ViTFeatureExtractor is deprecated and will be removed in version 5 of Transformers. Please use ViTImageProcessor instead.\n",
            "  warnings.warn(\n"
          ]
        }
      ],
      "source": [
        "from transformers import ViTFeatureExtractor\n",
        "from transformers import ViTForImageClassification\n",
        "\n",
        "vit_model = ViTForImageClassification.from_pretrained(\n",
        "    \"/content/content/vit-base-SKINMODEL\",\n",
        "    num_labels=len(labels),\n",
        "    id2label={str(i): c for i, c in enumerate(labels)},\n",
        "    label2id={c: str(i) for i, c in enumerate(labels)},\n",
        "    ignore_mismatched_sizes=True\n",
        ")\n",
        "\n",
        "deit_model = ViTForImageClassification.from_pretrained(\n",
        "    \"/content/content/deit-base-SKINMODEL\",\n",
        "    num_labels=len(labels),\n",
        "    id2label={str(i): c for i, c in enumerate(labels)},\n",
        "    label2id={c: str(i) for i, c in enumerate(labels)},\n",
        "    ignore_mismatched_sizes=True\n",
        ")\n",
        "\n",
        "vit_feature_extractor = ViTFeatureExtractor.from_pretrained(\"/content/content/vit-base-SKINMODEL\")\n",
        "\n",
        "deit_feature_extractor = ViTFeatureExtractor.from_pretrained(\"/content/content/deit-base-SKINMODEL\")"
      ]
    },
    {
      "cell_type": "code",
      "execution_count": null,
      "metadata": {
        "colab": {
          "base_uri": "https://localhost:8080/"
        },
        "id": "OkObFTREhHDU",
        "outputId": "0214f653-c14b-444a-b8d1-8b1d6a0ce2b2"
      },
      "outputs": [],
      "source": [
        "vit_model.config.id2label"
      ]
    },
    {
      "cell_type": "code",
      "execution_count": null,
      "metadata": {
        "id": "pAus_TAwfx_D"
      },
      "outputs": [],
      "source": [
        "def norm(a):\n",
        "  return min(max(a, 0), 1)\n",
        "\n",
        "def run_vit(PIL_Image):\n",
        "  inputs = vit_feature_extractor(images=PIL_Image, return_tensors=\"pt\")\n",
        "  outputs = vit_model(**inputs)\n",
        "  logits = outputs.logits\n",
        "\n",
        "  top_5_class_idx = np.array(logits.argsort())[0][::-1][:5]\n",
        "\n",
        "  top_5_class = [(vit_model.config.id2label[str(class_idx)],\n",
        "                norm( logits[0][class_idx].item()/10 ) ) for class_idx in top_5_class_idx]\n",
        "\n",
        "  return top_5_class\n",
        "\n",
        "def run_deit(PIL_Image):\n",
        "  inputs = deit_feature_extractor(images=PIL_Image, return_tensors=\"pt\")\n",
        "  outputs = deit_model(**inputs)\n",
        "  logits = outputs.logits\n",
        "\n",
        "  top_5_class_idx = np.array(logits.argsort())[0][::-1][:5]\n",
        "\n",
        "  top_5_class = [( vit_model.config.id2label[str(class_idx)],\n",
        "                  norm( logits[0][class_idx].item()/10 ) ) for class_idx in top_5_class_idx]\n",
        "\n",
        "  return top_5_class"
      ]
    },
    {
      "cell_type": "code",
      "execution_count": null,
      "metadata": {
        "id": "_zKBWt9-hWIG"
      },
      "outputs": [],
      "source": [
        "def ensemble_2(t1, t2):\n",
        "  if t1[0] == t2[0]:\n",
        "    return ( t1[0], (t1[1] + t2[1])/2 )\n",
        "  else:\n",
        "    if t1[1] >= t2[1]:\n",
        "      return ( t1[0], t1[1] )\n",
        "    if t1[1] < t2[1]:\n",
        "      return ( t2[0], t2[1] )"
      ]
    },
    {
      "cell_type": "code",
      "execution_count": null,
      "metadata": {
        "id": "ElZF3dA-o49K"
      },
      "outputs": [],
      "source": [
        "def predict(PIL_Image):\n",
        "  deit_predicition = run_deit(PIL_Image)\n",
        "  vit_prediction = run_vit(PIL_Image)\n",
        "\n",
        "  ensemble_prediction = []\n",
        "\n",
        "  for idx in range(len(vit_prediction)):\n",
        "    ensemble_prediction.append(ensemble_2(vit_prediction[idx], deit_predicition[idx]))\n",
        "\n",
        "  return ensemble_prediction"
      ]
    },
    {
      "cell_type": "markdown",
      "metadata": {
        "id": "dk-SanMRsR-a"
      },
      "source": [
        "Statistics:"
      ]
    },
    {
      "cell_type": "code",
      "execution_count": null,
      "metadata": {
        "colab": {
          "base_uri": "https://localhost:8080/"
        },
        "id": "vnML0VvqgQlD",
        "outputId": "ff758691-20ba-4f67-eeeb-cbeebebf0c8b"
      },
      "outputs": [
        {
          "name": "stdout",
          "output_type": "stream",
          "text": [
            "('basal cell carcinoma', 0.9919523239135742)\n",
            "basal cell carcinoma\n"
          ]
        }
      ],
      "source": [
        "ex = ds[\"train\"][3123]\n",
        "ex_image = ex['pixel_values']\n",
        "ex_label = (ds['test'].features['label']).int2str(ex['label'])\n",
        "\n",
        "print(ensemble_2(ex_image))\n",
        "print(ex_label)"
      ]
    },
    {
      "cell_type": "code",
      "execution_count": null,
      "metadata": {
        "colab": {
          "base_uri": "https://localhost:8080/"
        },
        "id": "oMcjw48aqrQ_",
        "outputId": "92e30f76-d97d-44ae-dfba-9d04ab6c7ea9"
      },
      "outputs": [
        {
          "name": "stderr",
          "output_type": "stream",
          "text": [
            "100%|██████████| 6051/6051 [22:15<00:00,  4.53it/s]\n"
          ]
        }
      ],
      "source": [
        "sum = {label: 0 for label in ds[\"test\"].features[\"label\"].names}\n",
        "total = {label: [] for label in ds[\"test\"].features[\"label\"].names}\n",
        "\n",
        "\n",
        "for test_ex_index in tqdm(range(len(test_ds))):\n",
        "  test_ex = test_ds[test_ex_index]\n",
        "\n",
        "  test_ex_image = test_ex[\"pixel_values\"]\n",
        "  test_ex_label = (ds['test'].features['label']).int2str(test_ex['label'])\n",
        "\n",
        "  prediction = ensemble_2(test_ex_image)\n",
        "\n",
        "  total[test_ex_label] += 1\n",
        "\n",
        "  if prediction[0] == test_ex_label:\n",
        "    sum[test_ex_label] += 1"
      ]
    },
    {
      "cell_type": "code",
      "execution_count": null,
      "metadata": {
        "id": "NBszA-NDtfdL"
      },
      "outputs": [],
      "source": [
        "accuracy = {}\n",
        "\n",
        "for label in ds[\"test\"].features[\"label\"].names:\n",
        "  accuracy[label] = sum[label]/total[label]"
      ]
    },
    {
      "cell_type": "code",
      "execution_count": null,
      "metadata": {
        "id": "R3WtqLHL86gF"
      },
      "outputs": [],
      "source": [
        "num_images = {label: 0 for label in ds[\"test\"].features[\"label\"].names}\n",
        "\n",
        "for ex in test_ds:\n",
        "  num_images[ (ds['test'].features['label']).int2str(ex['label']) ] += 1"
      ]
    },
    {
      "cell_type": "code",
      "execution_count": null,
      "metadata": {
        "id": "BX55LTQq6VFz"
      },
      "outputs": [],
      "source": [
        "weighted_accuracy = 0\n",
        "\n",
        "for disease, acc in accuracy.items():\n",
        "  weighted_accuracy += acc * (num_images[disease]/len(test_ds))"
      ]
    },
    {
      "cell_type": "code",
      "execution_count": null,
      "metadata": {
        "colab": {
          "base_uri": "https://localhost:8080/"
        },
        "id": "ezRcMYuW7ARH",
        "outputId": "f5d21030-1e60-4aba-899a-8c7d8b68a878"
      },
      "outputs": [
        {
          "name": "stdout",
          "output_type": "stream",
          "text": [
            "0.7909436456784006\n"
          ]
        }
      ],
      "source": [
        "print(weighted_accuracy)"
      ]
    },
    {
      "cell_type": "code",
      "execution_count": null,
      "metadata": {
        "id": "3qetAe_h5Y02"
      },
      "outputs": [],
      "source": [
        "import json\n",
        "with open(\"accuracy.json\", \"w\") as f:\n",
        "  json.dump(accuracy, f)"
      ]
    },
    {
      "cell_type": "code",
      "execution_count": null,
      "metadata": {
        "id": "kGc_kXZK98yA"
      },
      "outputs": [],
      "source": [
        "with open(\"num_test_images.json\", \"w\") as f:\n",
        "  json.dump(num_images, f)"
      ]
    },
    {
      "cell_type": "code",
      "execution_count": null,
      "metadata": {
        "colab": {
          "base_uri": "https://localhost:8080/"
        },
        "id": "uAkHQooHBWx6",
        "outputId": "3412ee8c-04ae-421f-d925-226f4d3d7ff9"
      },
      "outputs": [
        {
          "data": {
            "text/plain": [
              "76"
            ]
          },
          "execution_count": 54,
          "metadata": {},
          "output_type": "execute_result"
        }
      ],
      "source": [
        "num_images[\"Normal Skin\"]"
      ]
    },
    {
      "cell_type": "code",
      "execution_count": null,
      "metadata": {
        "colab": {
          "base_uri": "https://localhost:8080/"
        },
        "id": "uH_uTDXqA2LX",
        "outputId": "37322353-9b63-489a-b792-ea76b5c0c548"
      },
      "outputs": [
        {
          "name": "stderr",
          "output_type": "stream",
          "text": [
            "100%|██████████| 6051/6051 [21:53<00:00,  4.61it/s]\n"
          ]
        }
      ],
      "source": [
        "total_disease = 0\n",
        "predict_disease = 0\n",
        "\n",
        "for test_ex_index in tqdm(range(len(test_ds))):\n",
        "  test_ex = test_ds[test_ex_index]\n",
        "\n",
        "  test_ex_image = test_ex[\"pixel_values\"]\n",
        "  test_ex_label = (ds['test'].features['label']).int2str(test_ex['label'])\n",
        "\n",
        "  if test_ex_label != \"Normal Skin\":\n",
        "    prediction = ensemble_2(test_ex_image)\n",
        "\n",
        "    total_disease += 1\n",
        "\n",
        "    if prediction[0] == test_ex_label:\n",
        "      predict_disease += 1"
      ]
    },
    {
      "cell_type": "code",
      "execution_count": null,
      "metadata": {
        "colab": {
          "base_uri": "https://localhost:8080/"
        },
        "id": "ABt6Ns8TBwIm",
        "outputId": "6d114afc-951f-4e92-f91a-aabac210acf7"
      },
      "outputs": [
        {
          "name": "stdout",
          "output_type": "stream",
          "text": [
            "Sensativity: 78.82845188284519\n"
          ]
        }
      ],
      "source": [
        "print(f\"Sensativity: {100 * (predict_disease/total_disease)}\")"
      ]
    },
    {
      "cell_type": "code",
      "execution_count": null,
      "metadata": {
        "colab": {
          "base_uri": "https://localhost:8080/"
        },
        "id": "wWmQi7OfB-ih",
        "outputId": "28d96599-53ae-47cd-f684-8be9aabfc83a"
      },
      "outputs": [
        {
          "name": "stdout",
          "output_type": "stream",
          "text": [
            "5975\n",
            "4710\n"
          ]
        }
      ],
      "source": [
        "print(total_disease)\n",
        "print(predict_disease)"
      ]
    }
  ],
  "metadata": {
    "accelerator": "GPU",
    "colab": {
      "gpuClass": "premium",
      "provenance": []
    },
    "gpuClass": "premium",
    "kernelspec": {
      "display_name": "Python 3",
      "name": "python3"
    },
    "language_info": {
      "name": "python"
    }
  },
  "nbformat": 4,
  "nbformat_minor": 0
}

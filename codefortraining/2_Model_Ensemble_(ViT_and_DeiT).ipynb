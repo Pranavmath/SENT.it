{
  "nbformat": 4,
  "nbformat_minor": 0,
  "metadata": {
    "colab": {
      "provenance": [],
      "gpuClass": "premium"
    },
    "kernelspec": {
      "name": "python3",
      "display_name": "Python 3"
    },
    "language_info": {
      "name": "python"
    },
    "accelerator": "GPU",
    "gpuClass": "premium"
  },
  "cells": [
    {
      "cell_type": "code",
      "execution_count": null,
      "metadata": {
        "colab": {
          "base_uri": "https://localhost:8080/"
        },
        "id": "R8gojEY6ZP-o",
        "outputId": "54a57b38-812c-4a70-bf94-1936ca8cac03"
      },
      "outputs": [
        {
          "output_type": "stream",
          "name": "stdout",
          "text": [
            "Mounted at /content/drive\n"
          ]
        }
      ],
      "source": [
        "from google.colab import drive\n",
        "drive.mount(\"/content/drive\")"
      ]
    },
    {
      "cell_type": "code",
      "source": [
        "!unzip \"/content/drive/MyDrive/ViTskinmodel.zip\""
      ],
      "metadata": {
        "colab": {
          "base_uri": "https://localhost:8080/"
        },
        "id": "W-c-OmHMagb1",
        "outputId": "8582eb3d-59d6-4820-94ae-eb165faeb72f"
      },
      "execution_count": null,
      "outputs": [
        {
          "output_type": "stream",
          "name": "stdout",
          "text": [
            "Archive:  /content/drive/MyDrive/ViTskinmodel.zip\n",
            "   creating: content/vit-base-SKINMODEL/\n",
            "  inflating: content/vit-base-SKINMODEL/all_results.json  \n",
            "  inflating: content/vit-base-SKINMODEL/preprocessor_config.json  \n",
            "  inflating: content/vit-base-SKINMODEL/training_args.bin  \n",
            "  inflating: content/vit-base-SKINMODEL/trainer_state.json  \n",
            "  inflating: content/vit-base-SKINMODEL/config.json  \n",
            "   creating: content/vit-base-SKINMODEL/checkpoint-12000/\n",
            "  inflating: content/vit-base-SKINMODEL/checkpoint-12000/scheduler.pt  \n",
            "  inflating: content/vit-base-SKINMODEL/checkpoint-12000/preprocessor_config.json  \n",
            "  inflating: content/vit-base-SKINMODEL/checkpoint-12000/training_args.bin  \n",
            "  inflating: content/vit-base-SKINMODEL/checkpoint-12000/rng_state.pth  \n",
            "  inflating: content/vit-base-SKINMODEL/checkpoint-12000/trainer_state.json  \n",
            "  inflating: content/vit-base-SKINMODEL/checkpoint-12000/config.json  \n",
            "  inflating: content/vit-base-SKINMODEL/checkpoint-12000/optimizer.pt  \n",
            "  inflating: content/vit-base-SKINMODEL/checkpoint-12000/scaler.pt  \n",
            "  inflating: content/vit-base-SKINMODEL/checkpoint-12000/pytorch_model.bin  \n",
            "   creating: content/vit-base-SKINMODEL/runs/\n",
            "   creating: content/vit-base-SKINMODEL/runs/Mar23_23-38-46_3b614f3e7d0d/\n",
            "  inflating: content/vit-base-SKINMODEL/runs/Mar23_23-38-46_3b614f3e7d0d/events.out.tfevents.1679614734.3b614f3e7d0d.230.0  \n",
            "   creating: content/vit-base-SKINMODEL/runs/Mar23_23-38-46_3b614f3e7d0d/1679614734.819646/\n",
            "  inflating: content/vit-base-SKINMODEL/runs/Mar23_23-38-46_3b614f3e7d0d/1679614734.819646/events.out.tfevents.1679614734.3b614f3e7d0d.230.1  \n",
            "  inflating: content/vit-base-SKINMODEL/train_results.json  \n",
            "   creating: content/vit-base-SKINMODEL/checkpoint-8800/\n",
            "  inflating: content/vit-base-SKINMODEL/checkpoint-8800/scheduler.pt  \n",
            "  inflating: content/vit-base-SKINMODEL/checkpoint-8800/preprocessor_config.json  \n",
            "  inflating: content/vit-base-SKINMODEL/checkpoint-8800/training_args.bin  \n",
            "  inflating: content/vit-base-SKINMODEL/checkpoint-8800/rng_state.pth  \n",
            "  inflating: content/vit-base-SKINMODEL/checkpoint-8800/trainer_state.json  \n",
            "  inflating: content/vit-base-SKINMODEL/checkpoint-8800/config.json  \n",
            "  inflating: content/vit-base-SKINMODEL/checkpoint-8800/optimizer.pt  \n",
            "  inflating: content/vit-base-SKINMODEL/checkpoint-8800/scaler.pt  \n",
            "  inflating: content/vit-base-SKINMODEL/checkpoint-8800/pytorch_model.bin  \n",
            "  inflating: content/vit-base-SKINMODEL/pytorch_model.bin  \n"
          ]
        }
      ]
    },
    {
      "cell_type": "code",
      "source": [
        "!unzip \"/content/drive/MyDrive/deitskinmodel.zip\""
      ],
      "metadata": {
        "colab": {
          "base_uri": "https://localhost:8080/"
        },
        "id": "o_B4IiXaa262",
        "outputId": "820bad40-f4a1-40e1-a83d-1b613ec5e16f"
      },
      "execution_count": null,
      "outputs": [
        {
          "output_type": "stream",
          "name": "stdout",
          "text": [
            "Archive:  /content/drive/MyDrive/deitskinmodel.zip\n",
            "   creating: content/deit-base-SKINMODEL/\n",
            "  inflating: content/deit-base-SKINMODEL/test_results.json  \n",
            "  inflating: content/deit-base-SKINMODEL/all_results.json  \n",
            "  inflating: content/deit-base-SKINMODEL/trainer_state.json  \n",
            "  inflating: content/deit-base-SKINMODEL/preprocessor_config.json  \n",
            "  inflating: content/deit-base-SKINMODEL/train_results.json  \n",
            "  inflating: content/deit-base-SKINMODEL/pytorch_model.bin  \n",
            "  inflating: content/deit-base-SKINMODEL/config.json  \n",
            "  inflating: content/deit-base-SKINMODEL/training_args.bin  \n",
            "   creating: content/deit-base-SKINMODEL/runs/\n",
            "   creating: content/deit-base-SKINMODEL/runs/Mar28_16-38-33_0d70a2437661/\n",
            "  inflating: content/deit-base-SKINMODEL/runs/Mar28_16-38-33_0d70a2437661/events.out.tfevents.1680031319.0d70a2437661.1332.2  \n",
            "   creating: content/deit-base-SKINMODEL/runs/Mar28_16-38-33_0d70a2437661/1680021546.130095/\n",
            "  inflating: content/deit-base-SKINMODEL/runs/Mar28_16-38-33_0d70a2437661/1680021546.130095/events.out.tfevents.1680021546.0d70a2437661.1332.1  \n",
            "  inflating: content/deit-base-SKINMODEL/runs/Mar28_16-38-33_0d70a2437661/events.out.tfevents.1680021546.0d70a2437661.1332.0  \n",
            "   creating: content/deit-base-SKINMODEL/checkpoint-9000/\n",
            "  inflating: content/deit-base-SKINMODEL/checkpoint-9000/trainer_state.json  \n",
            "  inflating: content/deit-base-SKINMODEL/checkpoint-9000/rng_state.pth  \n",
            "  inflating: content/deit-base-SKINMODEL/checkpoint-9000/scheduler.pt  \n",
            "  inflating: content/deit-base-SKINMODEL/checkpoint-9000/preprocessor_config.json  \n",
            "  inflating: content/deit-base-SKINMODEL/checkpoint-9000/scaler.pt  \n",
            "  inflating: content/deit-base-SKINMODEL/checkpoint-9000/optimizer.pt  \n",
            "  inflating: content/deit-base-SKINMODEL/checkpoint-9000/pytorch_model.bin  \n",
            "  inflating: content/deit-base-SKINMODEL/checkpoint-9000/config.json  \n",
            "  inflating: content/deit-base-SKINMODEL/checkpoint-9000/training_args.bin  \n",
            "   creating: content/deit-base-SKINMODEL/checkpoint-12000/\n",
            "  inflating: content/deit-base-SKINMODEL/checkpoint-12000/trainer_state.json  \n",
            "  inflating: content/deit-base-SKINMODEL/checkpoint-12000/rng_state.pth  \n",
            "  inflating: content/deit-base-SKINMODEL/checkpoint-12000/scheduler.pt  \n",
            "  inflating: content/deit-base-SKINMODEL/checkpoint-12000/preprocessor_config.json  \n",
            "  inflating: content/deit-base-SKINMODEL/checkpoint-12000/scaler.pt  \n",
            "  inflating: content/deit-base-SKINMODEL/checkpoint-12000/optimizer.pt  \n",
            "  inflating: content/deit-base-SKINMODEL/checkpoint-12000/pytorch_model.bin  \n",
            "  inflating: content/deit-base-SKINMODEL/checkpoint-12000/config.json  \n",
            "  inflating: content/deit-base-SKINMODEL/checkpoint-12000/training_args.bin  \n"
          ]
        }
      ]
    },
    {
      "cell_type": "code",
      "source": [
        "!unzip \"/content/drive/MyDrive/dataset.zip\""
      ],
      "metadata": {
        "colab": {
          "base_uri": "https://localhost:8080/"
        },
        "id": "Z3l48dnAa5Ak",
        "outputId": "c5efb473-1435-48d2-d3c5-bf5d880e62be"
      },
      "execution_count": null,
      "outputs": [
        {
          "output_type": "stream",
          "name": "stdout",
          "text": [
            "Archive:  /content/drive/MyDrive/dataset.zip\n",
            "   creating: content/dataset.hf/\n",
            "   creating: content/dataset.hf/validation/\n",
            "  inflating: content/dataset.hf/validation/data-00000-of-00001.arrow  \n",
            "  inflating: content/dataset.hf/validation/state.json  \n",
            "  inflating: content/dataset.hf/validation/dataset_info.json  \n",
            "   creating: content/dataset.hf/test/\n",
            "  inflating: content/dataset.hf/test/data-00000-of-00001.arrow  \n",
            "  inflating: content/dataset.hf/test/state.json  \n",
            "  inflating: content/dataset.hf/test/dataset_info.json  \n",
            "   creating: content/dataset.hf/train/\n",
            "  inflating: content/dataset.hf/train/data-00000-of-00007.arrow  \n",
            "  inflating: content/dataset.hf/train/data-00006-of-00007.arrow  \n",
            "  inflating: content/dataset.hf/train/data-00001-of-00007.arrow  \n",
            "  inflating: content/dataset.hf/train/data-00003-of-00007.arrow  \n",
            "  inflating: content/dataset.hf/train/data-00002-of-00007.arrow  \n",
            "  inflating: content/dataset.hf/train/state.json  \n",
            "  inflating: content/dataset.hf/train/data-00005-of-00007.arrow  \n",
            "  inflating: content/dataset.hf/train/data-00004-of-00007.arrow  \n",
            "  inflating: content/dataset.hf/train/dataset_info.json  \n",
            "  inflating: content/dataset.hf/dataset_dict.json  \n"
          ]
        }
      ]
    },
    {
      "cell_type": "code",
      "source": [
        "!pip install datasets\n",
        "!pip install transformers"
      ],
      "metadata": {
        "colab": {
          "base_uri": "https://localhost:8080/"
        },
        "id": "5oDm-URbcs1e",
        "outputId": "9a4fc075-b653-4c6a-9813-ceebc084339a"
      },
      "execution_count": null,
      "outputs": [
        {
          "output_type": "stream",
          "name": "stdout",
          "text": [
            "Looking in indexes: https://pypi.org/simple, https://us-python.pkg.dev/colab-wheels/public/simple/\n",
            "Collecting datasets\n",
            "  Downloading datasets-2.11.0-py3-none-any.whl (468 kB)\n",
            "\u001b[2K     \u001b[90m━━━━━━━━━━━━━━━━━━━━━━━━━━━━━━━━━━━━━━━\u001b[0m \u001b[32m468.7/468.7 KB\u001b[0m \u001b[31m5.3 MB/s\u001b[0m eta \u001b[36m0:00:00\u001b[0m\n",
            "\u001b[?25hCollecting aiohttp\n",
            "  Downloading aiohttp-3.8.4-cp39-cp39-manylinux_2_17_x86_64.manylinux2014_x86_64.whl (1.0 MB)\n",
            "\u001b[2K     \u001b[90m━━━━━━━━━━━━━━━━━━━━━━━━━━━━━━━━━━━━━━━━\u001b[0m \u001b[32m1.0/1.0 MB\u001b[0m \u001b[31m25.7 MB/s\u001b[0m eta \u001b[36m0:00:00\u001b[0m\n",
            "\u001b[?25hRequirement already satisfied: packaging in /usr/local/lib/python3.9/dist-packages (from datasets) (23.0)\n",
            "Collecting multiprocess\n",
            "  Downloading multiprocess-0.70.14-py39-none-any.whl (132 kB)\n",
            "\u001b[2K     \u001b[90m━━━━━━━━━━━━━━━━━━━━━━━━━━━━━━━━━━━━━━\u001b[0m \u001b[32m132.9/132.9 KB\u001b[0m \u001b[31m18.6 MB/s\u001b[0m eta \u001b[36m0:00:00\u001b[0m\n",
            "\u001b[?25hCollecting huggingface-hub<1.0.0,>=0.11.0\n",
            "  Downloading huggingface_hub-0.13.3-py3-none-any.whl (199 kB)\n",
            "\u001b[2K     \u001b[90m━━━━━━━━━━━━━━━━━━━━━━━━━━━━━━━━━━━━━━\u001b[0m \u001b[32m199.8/199.8 KB\u001b[0m \u001b[31m25.0 MB/s\u001b[0m eta \u001b[36m0:00:00\u001b[0m\n",
            "\u001b[?25hCollecting dill<0.3.7,>=0.3.0\n",
            "  Downloading dill-0.3.6-py3-none-any.whl (110 kB)\n",
            "\u001b[2K     \u001b[90m━━━━━━━━━━━━━━━━━━━━━━━━━━━━━━━━━━━━━━\u001b[0m \u001b[32m110.5/110.5 KB\u001b[0m \u001b[31m14.3 MB/s\u001b[0m eta \u001b[36m0:00:00\u001b[0m\n",
            "\u001b[?25hRequirement already satisfied: fsspec[http]>=2021.11.1 in /usr/local/lib/python3.9/dist-packages (from datasets) (2023.3.0)\n",
            "Requirement already satisfied: pyyaml>=5.1 in /usr/local/lib/python3.9/dist-packages (from datasets) (6.0)\n",
            "Collecting responses<0.19\n",
            "  Downloading responses-0.18.0-py3-none-any.whl (38 kB)\n",
            "Collecting xxhash\n",
            "  Downloading xxhash-3.2.0-cp39-cp39-manylinux_2_17_x86_64.manylinux2014_x86_64.whl (212 kB)\n",
            "\u001b[2K     \u001b[90m━━━━━━━━━━━━━━━━━━━━━━━━━━━━━━━━━━━━━━\u001b[0m \u001b[32m212.2/212.2 KB\u001b[0m \u001b[31m20.8 MB/s\u001b[0m eta \u001b[36m0:00:00\u001b[0m\n",
            "\u001b[?25hRequirement already satisfied: requests>=2.19.0 in /usr/local/lib/python3.9/dist-packages (from datasets) (2.27.1)\n",
            "Requirement already satisfied: numpy>=1.17 in /usr/local/lib/python3.9/dist-packages (from datasets) (1.22.4)\n",
            "Requirement already satisfied: pyarrow>=8.0.0 in /usr/local/lib/python3.9/dist-packages (from datasets) (9.0.0)\n",
            "Requirement already satisfied: tqdm>=4.62.1 in /usr/local/lib/python3.9/dist-packages (from datasets) (4.65.0)\n",
            "Requirement already satisfied: pandas in /usr/local/lib/python3.9/dist-packages (from datasets) (1.4.4)\n",
            "Requirement already satisfied: charset-normalizer<4.0,>=2.0 in /usr/local/lib/python3.9/dist-packages (from aiohttp->datasets) (2.0.12)\n",
            "Collecting multidict<7.0,>=4.5\n",
            "  Downloading multidict-6.0.4-cp39-cp39-manylinux_2_17_x86_64.manylinux2014_x86_64.whl (114 kB)\n",
            "\u001b[2K     \u001b[90m━━━━━━━━━━━━━━━━━━━━━━━━━━━━━━━━━━━━━━\u001b[0m \u001b[32m114.2/114.2 KB\u001b[0m \u001b[31m14.3 MB/s\u001b[0m eta \u001b[36m0:00:00\u001b[0m\n",
            "\u001b[?25hCollecting yarl<2.0,>=1.0\n",
            "  Downloading yarl-1.8.2-cp39-cp39-manylinux_2_17_x86_64.manylinux2014_x86_64.whl (264 kB)\n",
            "\u001b[2K     \u001b[90m━━━━━━━━━━━━━━━━━━━━━━━━━━━━━━━━━━━━━━\u001b[0m \u001b[32m264.6/264.6 KB\u001b[0m \u001b[31m27.0 MB/s\u001b[0m eta \u001b[36m0:00:00\u001b[0m\n",
            "\u001b[?25hCollecting frozenlist>=1.1.1\n",
            "  Downloading frozenlist-1.3.3-cp39-cp39-manylinux_2_5_x86_64.manylinux1_x86_64.manylinux_2_17_x86_64.manylinux2014_x86_64.whl (158 kB)\n",
            "\u001b[2K     \u001b[90m━━━━━━━━━━━━━━━━━━━━━━━━━━━━━━━━━━━━━━\u001b[0m \u001b[32m158.8/158.8 KB\u001b[0m \u001b[31m16.9 MB/s\u001b[0m eta \u001b[36m0:00:00\u001b[0m\n",
            "\u001b[?25hCollecting aiosignal>=1.1.2\n",
            "  Downloading aiosignal-1.3.1-py3-none-any.whl (7.6 kB)\n",
            "Collecting async-timeout<5.0,>=4.0.0a3\n",
            "  Downloading async_timeout-4.0.2-py3-none-any.whl (5.8 kB)\n",
            "Requirement already satisfied: attrs>=17.3.0 in /usr/local/lib/python3.9/dist-packages (from aiohttp->datasets) (22.2.0)\n",
            "Requirement already satisfied: filelock in /usr/local/lib/python3.9/dist-packages (from huggingface-hub<1.0.0,>=0.11.0->datasets) (3.10.7)\n",
            "Requirement already satisfied: typing-extensions>=3.7.4.3 in /usr/local/lib/python3.9/dist-packages (from huggingface-hub<1.0.0,>=0.11.0->datasets) (4.5.0)\n",
            "Requirement already satisfied: certifi>=2017.4.17 in /usr/local/lib/python3.9/dist-packages (from requests>=2.19.0->datasets) (2022.12.7)\n",
            "Requirement already satisfied: urllib3<1.27,>=1.21.1 in /usr/local/lib/python3.9/dist-packages (from requests>=2.19.0->datasets) (1.26.15)\n",
            "Requirement already satisfied: idna<4,>=2.5 in /usr/local/lib/python3.9/dist-packages (from requests>=2.19.0->datasets) (3.4)\n",
            "Requirement already satisfied: pytz>=2020.1 in /usr/local/lib/python3.9/dist-packages (from pandas->datasets) (2022.7.1)\n",
            "Requirement already satisfied: python-dateutil>=2.8.1 in /usr/local/lib/python3.9/dist-packages (from pandas->datasets) (2.8.2)\n",
            "Requirement already satisfied: six>=1.5 in /usr/local/lib/python3.9/dist-packages (from python-dateutil>=2.8.1->pandas->datasets) (1.16.0)\n",
            "Installing collected packages: xxhash, multidict, frozenlist, dill, async-timeout, yarl, responses, multiprocess, huggingface-hub, aiosignal, aiohttp, datasets\n",
            "Successfully installed aiohttp-3.8.4 aiosignal-1.3.1 async-timeout-4.0.2 datasets-2.11.0 dill-0.3.6 frozenlist-1.3.3 huggingface-hub-0.13.3 multidict-6.0.4 multiprocess-0.70.14 responses-0.18.0 xxhash-3.2.0 yarl-1.8.2\n",
            "Looking in indexes: https://pypi.org/simple, https://us-python.pkg.dev/colab-wheels/public/simple/\n",
            "Collecting transformers\n",
            "  Downloading transformers-4.27.4-py3-none-any.whl (6.8 MB)\n",
            "\u001b[2K     \u001b[90m━━━━━━━━━━━━━━━━━━━━━━━━━━━━━━━━━━━━━━━━\u001b[0m \u001b[32m6.8/6.8 MB\u001b[0m \u001b[31m30.2 MB/s\u001b[0m eta \u001b[36m0:00:00\u001b[0m\n",
            "\u001b[?25hRequirement already satisfied: regex!=2019.12.17 in /usr/local/lib/python3.9/dist-packages (from transformers) (2022.10.31)\n",
            "Requirement already satisfied: pyyaml>=5.1 in /usr/local/lib/python3.9/dist-packages (from transformers) (6.0)\n",
            "Requirement already satisfied: requests in /usr/local/lib/python3.9/dist-packages (from transformers) (2.27.1)\n",
            "Requirement already satisfied: tqdm>=4.27 in /usr/local/lib/python3.9/dist-packages (from transformers) (4.65.0)\n",
            "Requirement already satisfied: filelock in /usr/local/lib/python3.9/dist-packages (from transformers) (3.10.7)\n",
            "Requirement already satisfied: huggingface-hub<1.0,>=0.11.0 in /usr/local/lib/python3.9/dist-packages (from transformers) (0.13.3)\n",
            "Collecting tokenizers!=0.11.3,<0.14,>=0.11.1\n",
            "  Downloading tokenizers-0.13.2-cp39-cp39-manylinux_2_17_x86_64.manylinux2014_x86_64.whl (7.6 MB)\n",
            "\u001b[2K     \u001b[90m━━━━━━━━━━━━━━━━━━━━━━━━━━━━━━━━━━━━━━━━\u001b[0m \u001b[32m7.6/7.6 MB\u001b[0m \u001b[31m69.5 MB/s\u001b[0m eta \u001b[36m0:00:00\u001b[0m\n",
            "\u001b[?25hRequirement already satisfied: packaging>=20.0 in /usr/local/lib/python3.9/dist-packages (from transformers) (23.0)\n",
            "Requirement already satisfied: numpy>=1.17 in /usr/local/lib/python3.9/dist-packages (from transformers) (1.22.4)\n",
            "Requirement already satisfied: typing-extensions>=3.7.4.3 in /usr/local/lib/python3.9/dist-packages (from huggingface-hub<1.0,>=0.11.0->transformers) (4.5.0)\n",
            "Requirement already satisfied: certifi>=2017.4.17 in /usr/local/lib/python3.9/dist-packages (from requests->transformers) (2022.12.7)\n",
            "Requirement already satisfied: idna<4,>=2.5 in /usr/local/lib/python3.9/dist-packages (from requests->transformers) (3.4)\n",
            "Requirement already satisfied: urllib3<1.27,>=1.21.1 in /usr/local/lib/python3.9/dist-packages (from requests->transformers) (1.26.15)\n",
            "Requirement already satisfied: charset-normalizer~=2.0.0 in /usr/local/lib/python3.9/dist-packages (from requests->transformers) (2.0.12)\n",
            "Installing collected packages: tokenizers, transformers\n",
            "Successfully installed tokenizers-0.13.2 transformers-4.27.4\n"
          ]
        }
      ]
    },
    {
      "cell_type": "code",
      "source": [
        "import numpy as np\n",
        "import math\n",
        "from tqdm import tqdm"
      ],
      "metadata": {
        "id": "EO8ojKz_ioLU"
      },
      "execution_count": null,
      "outputs": []
    },
    {
      "cell_type": "code",
      "source": [
        "from datasets import load_from_disk\n",
        "\n",
        "ds = load_from_disk(\"/content/content/dataset.hf\")\n",
        "test_ds = ds[\"test\"]"
      ],
      "metadata": {
        "id": "RYcqMFfJbbKs"
      },
      "execution_count": null,
      "outputs": []
    },
    {
      "cell_type": "code",
      "source": [
        "labels = ds['train'].features['label'].names"
      ],
      "metadata": {
        "id": "dzN_KBagfL47"
      },
      "execution_count": null,
      "outputs": []
    },
    {
      "cell_type": "code",
      "source": [
        "print(labels)"
      ],
      "metadata": {
        "colab": {
          "base_uri": "https://localhost:8080/"
        },
        "id": "VFyGnnVmk9HT",
        "outputId": "1f03475a-cc66-43bf-c780-5a7eb5f2a620"
      },
      "execution_count": null,
      "outputs": [
        {
          "output_type": "stream",
          "name": "stdout",
          "text": [
            "['Acne and Rosacea Photos', 'Actinic cheilitis', 'Normal Skin', 'acanthosis nigricans', 'actinic keratosis', 'alopecia', 'angiokeratoma', 'atopic dermatitis', 'atypical melanocytic proliferation', 'basal cell carcinoma', 'biting insects', 'bowens disease', 'bullous disease', 'candida', 'candidiasis', 'chondrodermatitis nodularis', 'ctcl', 'cutaneceous larva migrans', 'dermatofibroma', 'distal subungual onychomycosis', 'drug eruptions', 'eczema', 'epidermal cyst', 'fixed drug eruption', 'folliculitis', 'granuloma annulare', 'hemangioma', 'herpes', 'impetigo', 'intertrigo', 'keloids', 'keratoacanthoma', 'lentigo', 'lichen planus', 'lichenoid keratosis', 'lupus', 'melanocytic nevi', 'melanoma', 'molluscum contagiosum', 'necrobiosis lipoidica', 'neurofibromatosis', 'nevus', 'other connective tissue diseases', 'other lichen related diseases', 'other light diseases', 'other nail related diseases', 'other psoraisis related diseases', 'perleche', 'pigmented benign keratosis', 'pityriasis and related diseases', 'poison ivy related diseases', 'porokeratosis', 'psoriasis', 'pubic lice', 'pyogenic granuloma', 'scabies', 'scar', 'sebaceous hyperplasia', 'seborrheic dermatitis', 'seborrheic keratosis', 'skin tag polyps', 'solar lentigo', 'squamous cell carcinoma', 'stucco keretoses', 'sunburn', 'syringoma', 'telangiectasias', 'tick bite', 'tinea', 'tuberous sclerosis', 'urticaria', 'varicella', 'vascular lesion', 'vasculitis', 'venous diseases', 'viral exanthems', 'warts', 'xanthomas']\n"
          ]
        }
      ]
    },
    {
      "cell_type": "code",
      "source": [
        "from transformers import ViTFeatureExtractor\n",
        "from transformers import ViTForImageClassification\n",
        "\n",
        "vit_model = ViTForImageClassification.from_pretrained(\n",
        "    \"/content/content/vit-base-SKINMODEL\",\n",
        "    num_labels=len(labels),\n",
        "    id2label={str(i): c for i, c in enumerate(labels)},\n",
        "    label2id={c: str(i) for i, c in enumerate(labels)},\n",
        "    ignore_mismatched_sizes=True\n",
        ")\n",
        "\n",
        "deit_model = ViTForImageClassification.from_pretrained(\n",
        "    \"/content/content/deit-base-SKINMODEL\",\n",
        "    num_labels=len(labels),\n",
        "    id2label={str(i): c for i, c in enumerate(labels)},\n",
        "    label2id={c: str(i) for i, c in enumerate(labels)},\n",
        "    ignore_mismatched_sizes=True\n",
        ")\n",
        "\n",
        "vit_feature_extractor = ViTFeatureExtractor.from_pretrained(\"/content/content/vit-base-SKINMODEL\")\n",
        "\n",
        "deit_feature_extractor = ViTFeatureExtractor.from_pretrained(\"/content/content/deit-base-SKINMODEL\")"
      ],
      "metadata": {
        "colab": {
          "base_uri": "https://localhost:8080/"
        },
        "id": "4PHhufzxe2qM",
        "outputId": "6cbf9138-ffbd-485b-f985-89c0238b2a66"
      },
      "execution_count": null,
      "outputs": [
        {
          "output_type": "stream",
          "name": "stderr",
          "text": [
            "/usr/local/lib/python3.9/dist-packages/transformers/models/vit/feature_extraction_vit.py:28: FutureWarning: The class ViTFeatureExtractor is deprecated and will be removed in version 5 of Transformers. Please use ViTImageProcessor instead.\n",
            "  warnings.warn(\n"
          ]
        }
      ]
    },
    {
      "cell_type": "code",
      "source": [
        "vit_model.config.id2label"
      ],
      "metadata": {
        "colab": {
          "base_uri": "https://localhost:8080/"
        },
        "id": "OkObFTREhHDU",
        "outputId": "0214f653-c14b-444a-b8d1-8b1d6a0ce2b2"
      },
      "execution_count": null,
      "outputs": [
        {
          "output_type": "execute_result",
          "data": {
            "text/plain": [
              "{'0': 'Acne and Rosacea Photos',\n",
              " '1': 'Actinic cheilitis',\n",
              " '2': 'Normal Skin',\n",
              " '3': 'acanthosis nigricans',\n",
              " '4': 'actinic keratosis',\n",
              " '5': 'alopecia',\n",
              " '6': 'angiokeratoma',\n",
              " '7': 'atopic dermatitis',\n",
              " '8': 'atypical melanocytic proliferation',\n",
              " '9': 'basal cell carcinoma',\n",
              " '10': 'biting insects',\n",
              " '11': 'bowens disease',\n",
              " '12': 'bullous disease',\n",
              " '13': 'candida',\n",
              " '14': 'candidiasis',\n",
              " '15': 'chondrodermatitis nodularis',\n",
              " '16': 'ctcl',\n",
              " '17': 'cutaneceous larva migrans',\n",
              " '18': 'dermatofibroma',\n",
              " '19': 'distal subungual onychomycosis',\n",
              " '20': 'drug eruptions',\n",
              " '21': 'eczema',\n",
              " '22': 'epidermal cyst',\n",
              " '23': 'fixed drug eruption',\n",
              " '24': 'folliculitis',\n",
              " '25': 'granuloma annulare',\n",
              " '26': 'hemangioma',\n",
              " '27': 'herpes',\n",
              " '28': 'impetigo',\n",
              " '29': 'intertrigo',\n",
              " '30': 'keloids',\n",
              " '31': 'keratoacanthoma',\n",
              " '32': 'lentigo',\n",
              " '33': 'lichen planus',\n",
              " '34': 'lichenoid keratosis',\n",
              " '35': 'lupus',\n",
              " '36': 'melanocytic nevi',\n",
              " '37': 'melanoma',\n",
              " '38': 'molluscum contagiosum',\n",
              " '39': 'necrobiosis lipoidica',\n",
              " '40': 'neurofibromatosis',\n",
              " '41': 'nevus',\n",
              " '42': 'other connective tissue diseases',\n",
              " '43': 'other lichen related diseases',\n",
              " '44': 'other light diseases',\n",
              " '45': 'other nail related diseases',\n",
              " '46': 'other psoraisis related diseases',\n",
              " '47': 'perleche',\n",
              " '48': 'pigmented benign keratosis',\n",
              " '49': 'pityriasis and related diseases',\n",
              " '50': 'poison ivy related diseases',\n",
              " '51': 'porokeratosis',\n",
              " '52': 'psoriasis',\n",
              " '53': 'pubic lice',\n",
              " '54': 'pyogenic granuloma',\n",
              " '55': 'scabies',\n",
              " '56': 'scar',\n",
              " '57': 'sebaceous hyperplasia',\n",
              " '58': 'seborrheic dermatitis',\n",
              " '59': 'seborrheic keratosis',\n",
              " '60': 'skin tag polyps',\n",
              " '61': 'solar lentigo',\n",
              " '62': 'squamous cell carcinoma',\n",
              " '63': 'stucco keretoses',\n",
              " '64': 'sunburn',\n",
              " '65': 'syringoma',\n",
              " '66': 'telangiectasias',\n",
              " '67': 'tick bite',\n",
              " '68': 'tinea',\n",
              " '69': 'tuberous sclerosis',\n",
              " '70': 'urticaria',\n",
              " '71': 'varicella',\n",
              " '72': 'vascular lesion',\n",
              " '73': 'vasculitis',\n",
              " '74': 'venous diseases',\n",
              " '75': 'viral exanthems',\n",
              " '76': 'warts',\n",
              " '77': 'xanthomas'}"
            ]
          },
          "metadata": {},
          "execution_count": 10
        }
      ]
    },
    {
      "cell_type": "code",
      "source": [
        "def norm(a):\n",
        "  return min(max(a, 0), 1)\n",
        "\n",
        "def run_vit(PIL_Image):\n",
        "  inputs = vit_feature_extractor(images=PIL_Image, return_tensors=\"pt\")\n",
        "  outputs = vit_model(**inputs)\n",
        "  logits = outputs.logits\n",
        "\n",
        "  top_5_class_idx = np.array(logits.argsort())[0][::-1][:5]\n",
        "\n",
        "  top_5_class = [(vit_model.config.id2label[str(class_idx)],\n",
        "                norm( logits[0][class_idx].item()/10 ) ) for class_idx in top_5_class_idx]\n",
        "\n",
        "  return top_5_class\n",
        "\n",
        "def run_deit(PIL_Image):\n",
        "  inputs = deit_feature_extractor(images=PIL_Image, return_tensors=\"pt\")\n",
        "  outputs = deit_model(**inputs)\n",
        "  logits = outputs.logits\n",
        "\n",
        "  top_5_class_idx = np.array(logits.argsort())[0][::-1][:5]\n",
        "\n",
        "  top_5_class = [( vit_model.config.id2label[str(class_idx)],\n",
        "                  norm( logits[0][class_idx].item()/10 ) ) for class_idx in top_5_class_idx]\n",
        "\n",
        "  return top_5_class"
      ],
      "metadata": {
        "id": "pAus_TAwfx_D"
      },
      "execution_count": null,
      "outputs": []
    },
    {
      "cell_type": "code",
      "source": [
        "def ensemble_2(t1, t2):\n",
        "  if t1[0] == t2[0]:\n",
        "    return ( t1[0], (t1[1] + t2[1])/2 )\n",
        "  else:\n",
        "    if t1[1] >= t2[1]:\n",
        "      return ( t1[0], t1[1] )\n",
        "    if t1[1] < t2[1]:\n",
        "      return ( t2[0], t2[1] )"
      ],
      "metadata": {
        "id": "_zKBWt9-hWIG"
      },
      "execution_count": null,
      "outputs": []
    },
    {
      "cell_type": "code",
      "source": [
        "def predict(PIL_Image):\n",
        "  deit_predicition = run_deit(PIL_Image)\n",
        "  vit_prediction = run_vit(PIL_Image)\n",
        "\n",
        "  ensemble_prediction = []\n",
        "\n",
        "  for idx in range(len(vit_prediction)):\n",
        "    ensemble_prediction.append(ensemble_2(vit_prediction[idx], deit_predicition[idx]))\n",
        "\n",
        "  return ensemble_prediction"
      ],
      "metadata": {
        "id": "ElZF3dA-o49K"
      },
      "execution_count": null,
      "outputs": []
    },
    {
      "cell_type": "markdown",
      "source": [
        "Statistics:"
      ],
      "metadata": {
        "id": "dk-SanMRsR-a"
      }
    },
    {
      "cell_type": "code",
      "source": [
        "ex = ds[\"train\"][3123]\n",
        "ex_image = ex['pixel_values']\n",
        "ex_label = (ds['test'].features['label']).int2str(ex['label'])\n",
        "\n",
        "print(ensemble_2(ex_image))\n",
        "print(ex_label)"
      ],
      "metadata": {
        "colab": {
          "base_uri": "https://localhost:8080/"
        },
        "id": "vnML0VvqgQlD",
        "outputId": "ff758691-20ba-4f67-eeeb-cbeebebf0c8b"
      },
      "execution_count": null,
      "outputs": [
        {
          "output_type": "stream",
          "name": "stdout",
          "text": [
            "('basal cell carcinoma', 0.9919523239135742)\n",
            "basal cell carcinoma\n"
          ]
        }
      ]
    },
    {
      "cell_type": "code",
      "source": [
        "sum = {label: 0 for label in ds[\"test\"].features[\"label\"].names}\n",
        "total = {label: [] for label in ds[\"test\"].features[\"label\"].names}\n",
        "\n",
        "\n",
        "for test_ex_index in tqdm(range(len(test_ds))):\n",
        "  test_ex = test_ds[test_ex_index]\n",
        "\n",
        "  test_ex_image = test_ex[\"pixel_values\"]\n",
        "  test_ex_label = (ds['test'].features['label']).int2str(test_ex['label'])\n",
        "\n",
        "  prediction = ensemble_2(test_ex_image)\n",
        "\n",
        "  total[test_ex_label] += 1\n",
        "\n",
        "  if prediction[0] == test_ex_label:\n",
        "    sum[test_ex_label] += 1"
      ],
      "metadata": {
        "colab": {
          "base_uri": "https://localhost:8080/"
        },
        "id": "oMcjw48aqrQ_",
        "outputId": "92e30f76-d97d-44ae-dfba-9d04ab6c7ea9"
      },
      "execution_count": null,
      "outputs": [
        {
          "output_type": "stream",
          "name": "stderr",
          "text": [
            "100%|██████████| 6051/6051 [22:15<00:00,  4.53it/s]\n"
          ]
        }
      ]
    },
    {
      "cell_type": "code",
      "source": [
        "accuracy = {}\n",
        "\n",
        "for label in ds[\"test\"].features[\"label\"].names:\n",
        "  accuracy[label] = sum[label]/total[label]"
      ],
      "metadata": {
        "id": "NBszA-NDtfdL"
      },
      "execution_count": null,
      "outputs": []
    },
    {
      "cell_type": "code",
      "source": [
        "num_images = {label: 0 for label in ds[\"test\"].features[\"label\"].names}\n",
        "\n",
        "for ex in test_ds:\n",
        "  num_images[ (ds['test'].features['label']).int2str(ex['label']) ] += 1"
      ],
      "metadata": {
        "id": "R3WtqLHL86gF"
      },
      "execution_count": null,
      "outputs": []
    },
    {
      "cell_type": "code",
      "source": [
        "weighted_accuracy = 0\n",
        "\n",
        "for disease, acc in accuracy.items():\n",
        "  weighted_accuracy += acc * (num_images[disease]/len(test_ds))"
      ],
      "metadata": {
        "id": "BX55LTQq6VFz"
      },
      "execution_count": null,
      "outputs": []
    },
    {
      "cell_type": "code",
      "source": [
        "print(weighted_accuracy)"
      ],
      "metadata": {
        "colab": {
          "base_uri": "https://localhost:8080/"
        },
        "id": "ezRcMYuW7ARH",
        "outputId": "f5d21030-1e60-4aba-899a-8c7d8b68a878"
      },
      "execution_count": null,
      "outputs": [
        {
          "output_type": "stream",
          "name": "stdout",
          "text": [
            "0.7909436456784006\n"
          ]
        }
      ]
    },
    {
      "cell_type": "code",
      "source": [
        "import json\n",
        "with open(\"accuracy.json\", \"w\") as f:\n",
        "  json.dump(accuracy, f)"
      ],
      "metadata": {
        "id": "3qetAe_h5Y02"
      },
      "execution_count": null,
      "outputs": []
    },
    {
      "cell_type": "code",
      "source": [
        "with open(\"num_test_images.json\", \"w\") as f:\n",
        "  json.dump(num_images, f)"
      ],
      "metadata": {
        "id": "kGc_kXZK98yA"
      },
      "execution_count": null,
      "outputs": []
    },
    {
      "cell_type": "code",
      "source": [
        "num_images[\"Normal Skin\"]"
      ],
      "metadata": {
        "colab": {
          "base_uri": "https://localhost:8080/"
        },
        "id": "uAkHQooHBWx6",
        "outputId": "3412ee8c-04ae-421f-d925-226f4d3d7ff9"
      },
      "execution_count": null,
      "outputs": [
        {
          "output_type": "execute_result",
          "data": {
            "text/plain": [
              "76"
            ]
          },
          "metadata": {},
          "execution_count": 54
        }
      ]
    },
    {
      "cell_type": "code",
      "source": [
        "total_disease = 0\n",
        "predict_disease = 0\n",
        "\n",
        "for test_ex_index in tqdm(range(len(test_ds))):\n",
        "  test_ex = test_ds[test_ex_index]\n",
        "\n",
        "  test_ex_image = test_ex[\"pixel_values\"]\n",
        "  test_ex_label = (ds['test'].features['label']).int2str(test_ex['label'])\n",
        "\n",
        "  if test_ex_label != \"Normal Skin\":\n",
        "    prediction = ensemble_2(test_ex_image)\n",
        "\n",
        "    total_disease += 1\n",
        "\n",
        "    if prediction[0] == test_ex_label:\n",
        "      predict_disease += 1"
      ],
      "metadata": {
        "colab": {
          "base_uri": "https://localhost:8080/"
        },
        "id": "uH_uTDXqA2LX",
        "outputId": "37322353-9b63-489a-b792-ea76b5c0c548"
      },
      "execution_count": null,
      "outputs": [
        {
          "output_type": "stream",
          "name": "stderr",
          "text": [
            "100%|██████████| 6051/6051 [21:53<00:00,  4.61it/s]\n"
          ]
        }
      ]
    },
    {
      "cell_type": "code",
      "source": [
        "print(f\"Sensativity: {100 * (predict_disease/total_disease)}\")"
      ],
      "metadata": {
        "colab": {
          "base_uri": "https://localhost:8080/"
        },
        "id": "ABt6Ns8TBwIm",
        "outputId": "6d114afc-951f-4e92-f91a-aabac210acf7"
      },
      "execution_count": null,
      "outputs": [
        {
          "output_type": "stream",
          "name": "stdout",
          "text": [
            "Sensativity: 78.82845188284519\n"
          ]
        }
      ]
    },
    {
      "cell_type": "code",
      "source": [
        "print(total_disease)\n",
        "print(predict_disease)"
      ],
      "metadata": {
        "colab": {
          "base_uri": "https://localhost:8080/"
        },
        "id": "wWmQi7OfB-ih",
        "outputId": "28d96599-53ae-47cd-f684-8be9aabfc83a"
      },
      "execution_count": null,
      "outputs": [
        {
          "output_type": "stream",
          "name": "stdout",
          "text": [
            "5975\n",
            "4710\n"
          ]
        }
      ]
    }
  ]
}
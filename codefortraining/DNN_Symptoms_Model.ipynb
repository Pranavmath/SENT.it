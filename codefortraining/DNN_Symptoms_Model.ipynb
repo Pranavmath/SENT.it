{
  "nbformat": 4,
  "nbformat_minor": 0,
  "metadata": {
    "colab": {
      "provenance": []
    },
    "kernelspec": {
      "name": "python3",
      "display_name": "Python 3"
    },
    "language_info": {
      "name": "python"
    }
  },
  "cells": [
    {
      "cell_type": "code",
      "execution_count": null,
      "metadata": {
        "id": "9i0YdIlOscvc"
      },
      "outputs": [],
      "source": [
        "import pandas as pd\n",
        "import numpy as np\n",
        "import tensorflow as tf\n",
        "from tensorflow import keras"
      ]
    },
    {
      "cell_type": "code",
      "source": [
        "d = {'Fungal infection': [1, 0, 0, 0, 0, 0, 0, 0, 0, 0, 0, 0, 0, 0, 0, 0], 'Allergy': [0, 1, 0, 0, 0, 0, 0, 0, 0, 0, 0, 0, 0, 0, 0, 0], 'Bronchial Asthma': [0, 0, 1, 0, 0, 0, 0, 0, 0, 0, 0, 0, 0, 0, 0, 0], 'Jaundice': [0, 0, 0, 1, 0, 0, 0, 0, 0, 0, 0, 0, 0, 0, 0, 0], 'Malaria': [0, 0, 0, 0, 1, 0, 0, 0, 0, 0, 0, 0, 0, 0, 0, 0], 'Chicken pox': [0, 0, 0, 0, 0, 1, 0, 0, 0, 0, 0, 0, 0, 0, 0, 0], 'Dengue': [0, 0, 0, 0, 0, 0, 1, 0, 0, 0, 0, 0, 0, 0, 0, 0], 'Typhoid': [0, 0, 0, 0, 0, 0, 0, 1, 0, 0, 0, 0, 0, 0, 0, 0], 'Tuberculosis': [0, 0, 0, 0, 0, 0, 0, 0, 1, 0, 0, 0, 0, 0, 0, 0], 'Common Cold': [0, 0, 0, 0, 0, 0, 0, 0, 0, 1, 0, 0, 0, 0, 0, 0], 'Pneumonia': [0, 0, 0, 0, 0, 0, 0, 0, 0, 0, 1, 0, 0, 0, 0, 0], 'Varicose veins': [0, 0, 0, 0, 0, 0, 0, 0, 0, 0, 0, 1, 0, 0, 0, 0], '(vertigo) Paroymsal  Positional Vertigo': [0, 0, 0, 0, 0, 0, 0, 0, 0, 0, 0, 0, 1, 0, 0, 0], 'Acne': [0, 0, 0, 0, 0, 0, 0, 0, 0, 0, 0, 0, 0, 1, 0, 0], 'Psoriasis': [0, 0, 0, 0, 0, 0, 0, 0, 0, 0, 0, 0, 0, 0, 1, 0], 'Impetigo': [0, 0, 0, 0, 0, 0, 0, 0, 0, 0, 0, 0, 0, 0, 0, 1]}\n",
        "\n",
        "for key in list(d.keys()):\n",
        "  print(key)"
      ],
      "metadata": {
        "colab": {
          "base_uri": "https://localhost:8080/"
        },
        "id": "krRR1ozpB849",
        "outputId": "3477eab3-0ac0-4828-b198-8d364db49a77"
      },
      "execution_count": null,
      "outputs": [
        {
          "output_type": "stream",
          "name": "stdout",
          "text": [
            "Fungal infection\n",
            "Allergy\n",
            "Bronchial Asthma\n",
            "Jaundice\n",
            "Malaria\n",
            "Chicken pox\n",
            "Dengue\n",
            "Typhoid\n",
            "Tuberculosis\n",
            "Common Cold\n",
            "Pneumonia\n",
            "Varicose veins\n",
            "(vertigo) Paroymsal  Positional Vertigo\n",
            "Acne\n",
            "Psoriasis\n",
            "Impetigo\n"
          ]
        }
      ]
    },
    {
      "cell_type": "code",
      "source": [
        "df_type = pd.read_csv(\"Diseases for Dataset.csv\")"
      ],
      "metadata": {
        "id": "Gk3iPGmPK-rM"
      },
      "execution_count": null,
      "outputs": []
    },
    {
      "cell_type": "code",
      "source": [
        "df_type"
      ],
      "metadata": {
        "id": "yTOn66fvFO0P"
      },
      "execution_count": null,
      "outputs": []
    },
    {
      "cell_type": "code",
      "source": [
        "# Creates One Hot Encoder on only the diseases that are Skin, Ear, Nose, or Throat\n",
        "\n",
        "onehot_encoder_labels = []\n",
        "\n",
        "for i in range(41):\n",
        "  if (list(df_type.iloc[i]))[1] != \"Other\":\n",
        "    onehot_encoder_labels.append( list(df_type.iloc[i])[0] )\n",
        "\n",
        "num_labels = len(onehot_encoder_labels)\n",
        "\n",
        "onehot_encoder_labels = {onehot_encoder_labels[i]: [0]*i + [1] + [0]*(num_labels-1 - i) for i in range(num_labels)}\n",
        "print(onehot_encoder_labels)"
      ],
      "metadata": {
        "colab": {
          "base_uri": "https://localhost:8080/"
        },
        "id": "-BuOHDyqLgz4",
        "outputId": "8b5e74ef-e959-47b9-f531-5e7057f38a49"
      },
      "execution_count": null,
      "outputs": [
        {
          "output_type": "stream",
          "name": "stdout",
          "text": [
            "{'Fungal infection': [1, 0, 0, 0, 0, 0, 0, 0, 0, 0, 0, 0, 0, 0, 0, 0], 'Allergy': [0, 1, 0, 0, 0, 0, 0, 0, 0, 0, 0, 0, 0, 0, 0, 0], 'Bronchial Asthma': [0, 0, 1, 0, 0, 0, 0, 0, 0, 0, 0, 0, 0, 0, 0, 0], 'Jaundice': [0, 0, 0, 1, 0, 0, 0, 0, 0, 0, 0, 0, 0, 0, 0, 0], 'Malaria': [0, 0, 0, 0, 1, 0, 0, 0, 0, 0, 0, 0, 0, 0, 0, 0], 'Chicken pox': [0, 0, 0, 0, 0, 1, 0, 0, 0, 0, 0, 0, 0, 0, 0, 0], 'Dengue': [0, 0, 0, 0, 0, 0, 1, 0, 0, 0, 0, 0, 0, 0, 0, 0], 'Typhoid': [0, 0, 0, 0, 0, 0, 0, 1, 0, 0, 0, 0, 0, 0, 0, 0], 'Tuberculosis': [0, 0, 0, 0, 0, 0, 0, 0, 1, 0, 0, 0, 0, 0, 0, 0], 'Common Cold': [0, 0, 0, 0, 0, 0, 0, 0, 0, 1, 0, 0, 0, 0, 0, 0], 'Pneumonia': [0, 0, 0, 0, 0, 0, 0, 0, 0, 0, 1, 0, 0, 0, 0, 0], 'Varicose veins': [0, 0, 0, 0, 0, 0, 0, 0, 0, 0, 0, 1, 0, 0, 0, 0], '(vertigo) Paroymsal  Positional Vertigo': [0, 0, 0, 0, 0, 0, 0, 0, 0, 0, 0, 0, 1, 0, 0, 0], 'Acne': [0, 0, 0, 0, 0, 0, 0, 0, 0, 0, 0, 0, 0, 1, 0, 0], 'Psoriasis': [0, 0, 0, 0, 0, 0, 0, 0, 0, 0, 0, 0, 0, 0, 1, 0], 'Impetigo': [0, 0, 0, 0, 0, 0, 0, 0, 0, 0, 0, 0, 0, 0, 0, 1]}\n"
          ]
        }
      ]
    },
    {
      "cell_type": "code",
      "source": [
        "# Reads dataset and drops the unnecasry 133th column\n",
        "\n",
        "df = pd.read_csv(\"Dataset_Training_2.csv\")\n",
        "unamed = df.pop(\"Unnamed: 133\")"
      ],
      "metadata": {
        "id": "GwkHKZgFFPQr"
      },
      "execution_count": null,
      "outputs": []
    },
    {
      "cell_type": "code",
      "source": [
        "# Deletes all the rows that don't have diseases which are in the Skin, Ear, Nose, or Throat category\n",
        "\n",
        "indexs = []\n",
        "\n",
        "for i in range(len(df.index)):\n",
        "  if not (df.iloc[i][\"prognosis\"] in list(onehot_encoder_labels.keys())):\n",
        "    indexs.append(i)\n",
        "\n",
        "df = df.drop(indexs)\n",
        "df.reset_index(drop=True, inplace=True)"
      ],
      "metadata": {
        "id": "xZOpGAlsPQnC"
      },
      "execution_count": null,
      "outputs": []
    },
    {
      "cell_type": "code",
      "source": [
        "df_original = df.copy(deep=True)"
      ],
      "metadata": {
        "id": "JMrPTrVxS9QG"
      },
      "execution_count": null,
      "outputs": []
    },
    {
      "cell_type": "code",
      "source": [
        "# One hot encodes the labels/prognosis\n",
        "\n",
        "for i in range(len(df.index)):\n",
        "  df[\"prognosis\"][i] = onehot_encoder_labels[df.iloc[i][\"prognosis\"]]"
      ],
      "metadata": {
        "colab": {
          "base_uri": "https://localhost:8080/"
        },
        "id": "Kms1-SmgOWNJ",
        "outputId": "384e0c7d-eda7-4cc5-d1ea-77fa3d9b80a0"
      },
      "execution_count": null,
      "outputs": [
        {
          "output_type": "stream",
          "name": "stderr",
          "text": [
            "<ipython-input-7-b6513431cdb4>:4: SettingWithCopyWarning: \n",
            "A value is trying to be set on a copy of a slice from a DataFrame\n",
            "\n",
            "See the caveats in the documentation: https://pandas.pydata.org/pandas-docs/stable/user_guide/indexing.html#returning-a-view-versus-a-copy\n",
            "  df[\"prognosis\"][i] = onehot_encoder_labels[df.iloc[i][\"prognosis\"]]\n"
          ]
        }
      ]
    },
    {
      "cell_type": "code",
      "source": [
        "# Shuffles Dataset\n",
        "df.sample(frac=1)"
      ],
      "metadata": {
        "id": "MKHZe_FqQs1l"
      },
      "execution_count": null,
      "outputs": []
    },
    {
      "cell_type": "code",
      "source": [
        "target = df.pop(\"prognosis\")"
      ],
      "metadata": {
        "id": "7EAuOgYQC_kg"
      },
      "execution_count": null,
      "outputs": []
    },
    {
      "cell_type": "code",
      "source": [
        "input = []\n",
        "\n",
        "for i in range(1920):\n",
        "  input.append(np.asarray(df.iloc[i]).astype(np.float32))\n",
        "\n",
        "input = np.asarray(input)"
      ],
      "metadata": {
        "id": "ACn7lVXrHZt6"
      },
      "execution_count": null,
      "outputs": []
    },
    {
      "cell_type": "code",
      "source": [
        "y = []\n",
        "\n",
        "for i in range(1920):\n",
        "  y.append(np.asarray(target.iloc[i]).astype(np.float32))\n",
        "\n",
        "y = np.asarray(y)"
      ],
      "metadata": {
        "id": "US9S12keOsKm"
      },
      "execution_count": null,
      "outputs": []
    },
    {
      "cell_type": "code",
      "source": [
        "TRAIN_SIZE = int(len(input) * 0.8)"
      ],
      "metadata": {
        "id": "j15_81TbGFYA"
      },
      "execution_count": null,
      "outputs": []
    },
    {
      "cell_type": "code",
      "source": [
        "train_dataset = input[:TRAIN_SIZE]\n",
        "test_dataset = input[TRAIN_SIZE:]\n",
        "\n",
        "train_y = y[:TRAIN_SIZE]\n",
        "test_y = y[TRAIN_SIZE:]"
      ],
      "metadata": {
        "id": "SY4FK32IGK5Q"
      },
      "execution_count": null,
      "outputs": []
    },
    {
      "cell_type": "code",
      "source": [
        "print(train_dataset.shape)\n",
        "print(test_dataset.shape)\n",
        "\n",
        "print(train_y.shape)\n",
        "print(test_y.shape)"
      ],
      "metadata": {
        "colab": {
          "base_uri": "https://localhost:8080/"
        },
        "id": "r2sisUmGH6_q",
        "outputId": "86bbe4a8-1297-464b-e8ab-ced605a6f3a1"
      },
      "execution_count": null,
      "outputs": [
        {
          "output_type": "stream",
          "name": "stdout",
          "text": [
            "(1536, 132)\n",
            "(384, 132)\n",
            "(1536, 16)\n",
            "(384, 16)\n"
          ]
        }
      ]
    },
    {
      "cell_type": "code",
      "source": [
        "model = tf.keras.Sequential(\n",
        "    [\n",
        "        tf.keras.layers.Dense(100, activation=\"relu\", input_shape=(132, )),\n",
        "        tf.keras.layers.Dense(50, activation=\"relu\"),\n",
        "        tf.keras.layers.Dense(16, activation=\"softmax\")\n",
        "    ]\n",
        ")"
      ],
      "metadata": {
        "id": "xv3H_H67PNBN"
      },
      "execution_count": null,
      "outputs": []
    },
    {
      "cell_type": "code",
      "source": [
        "model.compile(\n",
        "    optimizer=tf.keras.optimizers.Adam(),\n",
        "    loss=tf.keras.losses.CategoricalCrossentropy(),\n",
        "    metrics=[\"accuracy\"]\n",
        ")"
      ],
      "metadata": {
        "id": "AnxFSb-bQald"
      },
      "execution_count": null,
      "outputs": []
    },
    {
      "cell_type": "code",
      "source": [
        "history = model.fit(train_dataset, train_y, batch_size=16, epochs=5)"
      ],
      "metadata": {
        "colab": {
          "base_uri": "https://localhost:8080/"
        },
        "id": "czW9Ij2zRI-T",
        "outputId": "f9662fac-b248-4d87-a7bb-09e841982d3a"
      },
      "execution_count": null,
      "outputs": [
        {
          "output_type": "stream",
          "name": "stdout",
          "text": [
            "Epoch 1/5\n",
            "96/96 [==============================] - 1s 2ms/step - loss: 1.5062 - accuracy: 0.8490\n",
            "Epoch 2/5\n",
            "96/96 [==============================] - 0s 2ms/step - loss: 0.0918 - accuracy: 1.0000\n",
            "Epoch 3/5\n",
            "96/96 [==============================] - 0s 2ms/step - loss: 0.0145 - accuracy: 1.0000\n",
            "Epoch 4/5\n",
            "96/96 [==============================] - 0s 2ms/step - loss: 0.0064 - accuracy: 1.0000\n",
            "Epoch 5/5\n",
            "96/96 [==============================] - 0s 2ms/step - loss: 0.0037 - accuracy: 1.0000\n"
          ]
        }
      ]
    },
    {
      "cell_type": "code",
      "source": [
        "model.evaluate(test_dataset, test_y)"
      ],
      "metadata": {
        "id": "rdDuWIFLC6Bv",
        "colab": {
          "base_uri": "https://localhost:8080/"
        },
        "outputId": "d719a593-4d00-44b7-f31b-dc227438f030"
      },
      "execution_count": null,
      "outputs": [
        {
          "output_type": "stream",
          "name": "stdout",
          "text": [
            "12/12 [==============================] - 0s 2ms/step - loss: 0.0011 - accuracy: 1.0000\n"
          ]
        },
        {
          "output_type": "execute_result",
          "data": {
            "text/plain": [
              "[0.0010618148371577263, 1.0]"
            ]
          },
          "metadata": {},
          "execution_count": 18
        }
      ]
    },
    {
      "cell_type": "code",
      "source": [
        "model.save(\"/content/model\")"
      ],
      "metadata": {
        "id": "imC4vE7T2Io7"
      },
      "execution_count": null,
      "outputs": []
    },
    {
      "cell_type": "code",
      "source": [
        "saved_model = keras.models.load_model(\"/content/model\")"
      ],
      "metadata": {
        "id": "jdIjM6x62ar_"
      },
      "execution_count": null,
      "outputs": []
    },
    {
      "cell_type": "code",
      "source": [
        "!zip -r /content/model.zip /content/model/"
      ],
      "metadata": {
        "colab": {
          "base_uri": "https://localhost:8080/"
        },
        "id": "Fyuc9Inn3JKs",
        "outputId": "7f4c6e37-9bf0-445f-979b-cd39c5b6fba0"
      },
      "execution_count": null,
      "outputs": [
        {
          "output_type": "stream",
          "name": "stdout",
          "text": [
            "  adding: content/model/ (stored 0%)\n",
            "  adding: content/model/keras_metadata.pb (deflated 86%)\n",
            "  adding: content/model/saved_model.pb (deflated 87%)\n",
            "  adding: content/model/assets/ (stored 0%)\n",
            "  adding: content/model/variables/ (stored 0%)\n",
            "  adding: content/model/variables/variables.data-00000-of-00001 (deflated 33%)\n",
            "  adding: content/model/variables/variables.index (deflated 62%)\n"
          ]
        }
      ]
    },
    {
      "cell_type": "code",
      "source": [
        "onehot_encoder_inputs = {l: i for i, l in enumerate(list(df.columns))}\n",
        "\n",
        "def onehot_encode_inputs(inputs):\n",
        "  inital = [0] * 132\n",
        "\n",
        "  for input in inputs:\n",
        "    inital[onehot_encoder_inputs[input]] = 1\n",
        "\n",
        "  return inital"
      ],
      "metadata": {
        "id": "aaIGdoHs7pno"
      },
      "execution_count": null,
      "outputs": []
    },
    {
      "cell_type": "code",
      "source": [
        "print(list(df.columns))"
      ],
      "metadata": {
        "colab": {
          "base_uri": "https://localhost:8080/"
        },
        "id": "z0MLo-9k4C7m",
        "outputId": "44173131-1419-4289-c0f9-29753566116d"
      },
      "execution_count": null,
      "outputs": [
        {
          "output_type": "stream",
          "name": "stdout",
          "text": [
            "['itching', 'skin_rash', 'nodal_skin_eruptions', 'continuous_sneezing', 'shivering', 'chills', 'joint_pain', 'stomach_pain', 'acidity', 'ulcers_on_tongue', 'muscle_wasting', 'vomiting', 'burning_micturition', 'spotting_ urination', 'fatigue', 'weight_gain', 'anxiety', 'cold_hands_and_feets', 'mood_swings', 'weight_loss', 'restlessness', 'lethargy', 'patches_in_throat', 'irregular_sugar_level', 'cough', 'high_fever', 'sunken_eyes', 'breathlessness', 'sweating', 'dehydration', 'indigestion', 'headache', 'yellowish_skin', 'dark_urine', 'nausea', 'loss_of_appetite', 'pain_behind_the_eyes', 'back_pain', 'constipation', 'abdominal_pain', 'diarrhoea', 'mild_fever', 'yellow_urine', 'yellowing_of_eyes', 'acute_liver_failure', 'fluid_overload', 'swelling_of_stomach', 'swelled_lymph_nodes', 'malaise', 'blurred_and_distorted_vision', 'phlegm', 'throat_irritation', 'redness_of_eyes', 'sinus_pressure', 'runny_nose', 'congestion', 'chest_pain', 'weakness_in_limbs', 'fast_heart_rate', 'pain_during_bowel_movements', 'pain_in_anal_region', 'bloody_stool', 'irritation_in_anus', 'neck_pain', 'dizziness', 'cramps', 'bruising', 'obesity', 'swollen_legs', 'swollen_blood_vessels', 'puffy_face_and_eyes', 'enlarged_thyroid', 'brittle_nails', 'swollen_extremeties', 'excessive_hunger', 'extra_marital_contacts', 'drying_and_tingling_lips', 'slurred_speech', 'knee_pain', 'hip_joint_pain', 'muscle_weakness', 'stiff_neck', 'swelling_joints', 'movement_stiffness', 'spinning_movements', 'loss_of_balance', 'unsteadiness', 'weakness_of_one_body_side', 'loss_of_smell', 'bladder_discomfort', 'foul_smell_of urine', 'continuous_feel_of_urine', 'passage_of_gases', 'internal_itching', 'toxic_look_(typhos)', 'depression', 'irritability', 'muscle_pain', 'altered_sensorium', 'red_spots_over_body', 'belly_pain', 'abnormal_menstruation', 'dischromic _patches', 'watering_from_eyes', 'increased_appetite', 'polyuria', 'family_history', 'mucoid_sputum', 'rusty_sputum', 'lack_of_concentration', 'visual_disturbances', 'receiving_blood_transfusion', 'receiving_unsterile_injections', 'coma', 'stomach_bleeding', 'distention_of_abdomen', 'history_of_alcohol_consumption', 'fluid_overload.1', 'blood_in_sputum', 'prominent_veins_on_calf', 'palpitations', 'painful_walking', 'pus_filled_pimples', 'blackheads', 'scurring', 'skin_peeling', 'silver_like_dusting', 'small_dents_in_nails', 'inflammatory_nails', 'blister', 'red_sore_around_nose', 'yellow_crust_ooze']\n"
          ]
        }
      ]
    },
    {
      "cell_type": "code",
      "source": [
        "# Given numpy array with shape (132, ) return the prediction\n",
        "def predict_array(nparr):\n",
        "  if nparr.dtype != np.float32:\n",
        "    raise Exception(\"Your input numpy array must have a dtype of float32\")\n",
        "\n",
        "  tensor = tf.convert_to_tensor([nparr])\n",
        "  predict = model.predict(tensor)\n",
        "\n",
        "  predict_list = list(predict)[0]\n",
        "\n",
        "  sorted_predict = sorted({i: predict_list[i] for i in range(len(predict_list))}.items(), key=lambda i: i[1], reverse=True)\n",
        "\n",
        "  index_prediction = sorted_predict[0][0]\n",
        "\n",
        "  prediction = list(onehot_encoder_labels.keys())[index_prediction]\n",
        "\n",
        "  return prediction"
      ],
      "metadata": {
        "id": "xcLBnUI1HU-9"
      },
      "execution_count": null,
      "outputs": []
    },
    {
      "cell_type": "code",
      "source": [
        "test = np.asarray(onehot_encode_inputs([\"skin_rash\", \"itching\"])).astype(np.float32)\n",
        "\n",
        "predict_array(test)"
      ],
      "metadata": {
        "colab": {
          "base_uri": "https://localhost:8080/",
          "height": 53
        },
        "id": "K1nRqQQ3uaez",
        "outputId": "1a781434-22a3-4e46-a733-1de6bab2974c"
      },
      "execution_count": null,
      "outputs": [
        {
          "output_type": "stream",
          "name": "stdout",
          "text": [
            "1/1 [==============================] - 0s 82ms/step\n"
          ]
        },
        {
          "output_type": "execute_result",
          "data": {
            "text/plain": [
              "'Fungal infection'"
            ],
            "application/vnd.google.colaboratory.intrinsic+json": {
              "type": "string"
            }
          },
          "metadata": {},
          "execution_count": 26
        }
      ]
    }
  ]
}